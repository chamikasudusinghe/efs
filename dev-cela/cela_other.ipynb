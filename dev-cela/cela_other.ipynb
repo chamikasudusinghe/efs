{
 "cells": [
  {
   "cell_type": "markdown",
   "metadata": {},
   "source": [
    "## LEAP"
   ]
  },
  {
   "cell_type": "code",
   "execution_count": 56,
   "metadata": {},
   "outputs": [],
   "source": [
    "import pandas as pd\n",
    "import numpy as np\n",
    "import datetime\n",
    "import itertools\n",
    "from sklearn.preprocessing import MinMaxScaler,StandardScaler"
   ]
  },
  {
   "cell_type": "code",
   "execution_count": 57,
   "metadata": {},
   "outputs": [],
   "source": [
    "from sklearn.metrics import mean_squared_error,r2_score"
   ]
  },
  {
   "cell_type": "code",
   "execution_count": 58,
   "metadata": {},
   "outputs": [],
   "source": [
    "df1 = pd.read_csv('train.csv')\n",
    "df1 = df1.dropna()\n",
    "df2 = df1.drop(columns=['Target'])\n",
    "df3 = df1['Target']\n",
    "df4 = pd.read_csv('test.csv')\n",
    "df4 = df4.dropna()\n",
    "df5 = df4.drop(columns=['Target'])\n",
    "df6 = df4['Target']"
   ]
  },
  {
   "cell_type": "markdown",
   "metadata": {},
   "source": [
    "### ElasticNetCV"
   ]
  },
  {
   "cell_type": "code",
   "execution_count": 59,
   "metadata": {},
   "outputs": [],
   "source": [
    "from sklearn.linear_model import ElasticNetCV"
   ]
  },
  {
   "cell_type": "code",
   "execution_count": 60,
   "metadata": {},
   "outputs": [],
   "source": [
    "scaler = StandardScaler()\n",
    "df2 = scaler.fit_transform(df2)\n",
    "df5 = scaler.fit_transform(df5)"
   ]
  },
  {
   "cell_type": "code",
   "execution_count": 61,
   "metadata": {},
   "outputs": [
    {
     "data": {
      "text/plain": [
       "ElasticNetCV()"
      ]
     },
     "execution_count": 61,
     "metadata": {},
     "output_type": "execute_result"
    }
   ],
   "source": [
    "en = ElasticNetCV()\n",
    "en.fit(df2,df3)"
   ]
  },
  {
   "cell_type": "code",
   "execution_count": 62,
   "metadata": {},
   "outputs": [
    {
     "data": {
      "text/plain": [
       "5464.577722205783"
      ]
     },
     "execution_count": 62,
     "metadata": {},
     "output_type": "execute_result"
    }
   ],
   "source": [
    "y_p=en.predict(df2)\n",
    "mean_squared_error(df3,y_p)"
   ]
  },
  {
   "cell_type": "code",
   "execution_count": 63,
   "metadata": {},
   "outputs": [],
   "source": [
    "y_pred_en=en.predict(df5)"
   ]
  },
  {
   "cell_type": "code",
   "execution_count": 64,
   "metadata": {},
   "outputs": [
    {
     "data": {
      "text/plain": [
       "6437.628580837447"
      ]
     },
     "execution_count": 64,
     "metadata": {},
     "output_type": "execute_result"
    }
   ],
   "source": [
    "mean_squared_error(df6,y_pred_en)"
   ]
  },
  {
   "cell_type": "code",
   "execution_count": 65,
   "metadata": {},
   "outputs": [
    {
     "data": {
      "text/plain": [
       "80.23483396154968"
      ]
     },
     "execution_count": 65,
     "metadata": {},
     "output_type": "execute_result"
    }
   ],
   "source": [
    "rmse = np.sqrt(mean_squared_error(df6,y_pred_en))\n",
    "rmse"
   ]
  },
  {
   "cell_type": "code",
   "execution_count": 66,
   "metadata": {},
   "outputs": [
    {
     "data": {
      "text/plain": [
       "0.7575339437283406"
      ]
     },
     "execution_count": 66,
     "metadata": {},
     "output_type": "execute_result"
    }
   ],
   "source": [
    "r2_score(df6,y_pred_en)"
   ]
  },
  {
   "cell_type": "markdown",
   "metadata": {},
   "source": [
    "### Linear Regression"
   ]
  },
  {
   "cell_type": "code",
   "execution_count": 67,
   "metadata": {},
   "outputs": [],
   "source": [
    "from sklearn.linear_model import LinearRegression"
   ]
  },
  {
   "cell_type": "code",
   "execution_count": 68,
   "metadata": {},
   "outputs": [
    {
     "data": {
      "text/plain": [
       "LinearRegression()"
      ]
     },
     "execution_count": 68,
     "metadata": {},
     "output_type": "execute_result"
    }
   ],
   "source": [
    "lr = LinearRegression()\n",
    "lr.fit(df2,df3)"
   ]
  },
  {
   "cell_type": "code",
   "execution_count": 69,
   "metadata": {},
   "outputs": [
    {
     "data": {
      "text/plain": [
       "5377.157459913511"
      ]
     },
     "execution_count": 69,
     "metadata": {},
     "output_type": "execute_result"
    }
   ],
   "source": [
    "y_p=lr.predict(df2)\n",
    "mean_squared_error(df3,y_p)"
   ]
  },
  {
   "cell_type": "code",
   "execution_count": 70,
   "metadata": {},
   "outputs": [],
   "source": [
    "y_pred_lr=lr.predict(df5)"
   ]
  },
  {
   "cell_type": "code",
   "execution_count": 71,
   "metadata": {},
   "outputs": [
    {
     "data": {
      "text/plain": [
       "3.205162745789329e+29"
      ]
     },
     "execution_count": 71,
     "metadata": {},
     "output_type": "execute_result"
    }
   ],
   "source": [
    "mean_squared_error(df6,y_pred_lr)"
   ]
  },
  {
   "cell_type": "code",
   "execution_count": 72,
   "metadata": {},
   "outputs": [
    {
     "data": {
      "text/plain": [
       "566141567612671.4"
      ]
     },
     "execution_count": 72,
     "metadata": {},
     "output_type": "execute_result"
    }
   ],
   "source": [
    "rmse = np.sqrt(mean_squared_error(df6,y_pred_lr))\n",
    "rmse"
   ]
  },
  {
   "cell_type": "code",
   "execution_count": 73,
   "metadata": {},
   "outputs": [
    {
     "data": {
      "text/plain": [
       "-1.2071885802695473e+25"
      ]
     },
     "execution_count": 73,
     "metadata": {},
     "output_type": "execute_result"
    }
   ],
   "source": [
    "r2_score(df6,y_pred_lr)"
   ]
  },
  {
   "cell_type": "markdown",
   "metadata": {},
   "source": [
    "### Decision Tree"
   ]
  },
  {
   "cell_type": "code",
   "execution_count": 74,
   "metadata": {},
   "outputs": [],
   "source": [
    "from sklearn.tree import DecisionTreeRegressor"
   ]
  },
  {
   "cell_type": "code",
   "execution_count": 75,
   "metadata": {},
   "outputs": [
    {
     "data": {
      "text/plain": [
       "DecisionTreeRegressor(max_depth=7)"
      ]
     },
     "execution_count": 75,
     "metadata": {},
     "output_type": "execute_result"
    }
   ],
   "source": [
    "dt = DecisionTreeRegressor(max_depth=7)\n",
    "dt.fit(df2,df3)"
   ]
  },
  {
   "cell_type": "code",
   "execution_count": 76,
   "metadata": {},
   "outputs": [
    {
     "data": {
      "text/plain": [
       "11199.114468896125"
      ]
     },
     "execution_count": 76,
     "metadata": {},
     "output_type": "execute_result"
    }
   ],
   "source": [
    "y_p=dt.predict(df2)\n",
    "mean_squared_error(df3,y_p)"
   ]
  },
  {
   "cell_type": "code",
   "execution_count": 77,
   "metadata": {},
   "outputs": [],
   "source": [
    "y_pred_dt=dt.predict(df5)"
   ]
  },
  {
   "cell_type": "code",
   "execution_count": 78,
   "metadata": {},
   "outputs": [
    {
     "data": {
      "text/plain": [
       "12030.97957914473"
      ]
     },
     "execution_count": 78,
     "metadata": {},
     "output_type": "execute_result"
    }
   ],
   "source": [
    "mean_squared_error(df6,y_pred_dt)"
   ]
  },
  {
   "cell_type": "code",
   "execution_count": 79,
   "metadata": {},
   "outputs": [
    {
     "data": {
      "text/plain": [
       "109.68582214281265"
      ]
     },
     "execution_count": 79,
     "metadata": {},
     "output_type": "execute_result"
    }
   ],
   "source": [
    "rmse = np.sqrt(mean_squared_error(df6,y_pred_dt))\n",
    "rmse"
   ]
  },
  {
   "cell_type": "code",
   "execution_count": 80,
   "metadata": {},
   "outputs": [
    {
     "data": {
      "text/plain": [
       "0.5468666551650272"
      ]
     },
     "execution_count": 80,
     "metadata": {},
     "output_type": "execute_result"
    }
   ],
   "source": [
    "r2_score(df6,y_pred_dt)"
   ]
  },
  {
   "cell_type": "markdown",
   "metadata": {},
   "source": [
    "### Random Forest"
   ]
  },
  {
   "cell_type": "code",
   "execution_count": 81,
   "metadata": {},
   "outputs": [],
   "source": [
    "from sklearn.ensemble import RandomForestRegressor"
   ]
  },
  {
   "cell_type": "code",
   "execution_count": 82,
   "metadata": {},
   "outputs": [
    {
     "data": {
      "text/plain": [
       "RandomForestRegressor()"
      ]
     },
     "execution_count": 82,
     "metadata": {},
     "output_type": "execute_result"
    }
   ],
   "source": [
    "model = RandomForestRegressor()\n",
    "model.fit(df2,df3.values.ravel())"
   ]
  },
  {
   "cell_type": "code",
   "execution_count": 83,
   "metadata": {},
   "outputs": [
    {
     "data": {
      "text/plain": [
       "69.58231992375508"
      ]
     },
     "execution_count": 83,
     "metadata": {},
     "output_type": "execute_result"
    }
   ],
   "source": [
    "y_p=model.predict(df2)\n",
    "mean_squared_error(df3,y_p)"
   ]
  },
  {
   "cell_type": "code",
   "execution_count": 84,
   "metadata": {},
   "outputs": [],
   "source": [
    "y_pred_rf = model.predict(df5)"
   ]
  },
  {
   "cell_type": "code",
   "execution_count": 85,
   "metadata": {},
   "outputs": [
    {
     "data": {
      "text/plain": [
       "5350.743420248461"
      ]
     },
     "execution_count": 85,
     "metadata": {},
     "output_type": "execute_result"
    }
   ],
   "source": [
    "mean_squared_error(df6,y_pred_rf)"
   ]
  },
  {
   "cell_type": "code",
   "execution_count": 86,
   "metadata": {},
   "outputs": [
    {
     "data": {
      "text/plain": [
       "109.68582214281265"
      ]
     },
     "execution_count": 86,
     "metadata": {},
     "output_type": "execute_result"
    }
   ],
   "source": [
    "rmse = np.sqrt(mean_squared_error(df6,y_pred_dt))\n",
    "rmse"
   ]
  },
  {
   "cell_type": "code",
   "execution_count": 87,
   "metadata": {},
   "outputs": [
    {
     "data": {
      "text/plain": [
       "0.7984702536131085"
      ]
     },
     "execution_count": 87,
     "metadata": {},
     "output_type": "execute_result"
    }
   ],
   "source": [
    "r2_score(df6,y_pred_rf)"
   ]
  },
  {
   "cell_type": "markdown",
   "metadata": {},
   "source": [
    "### XGBoost"
   ]
  },
  {
   "cell_type": "code",
   "execution_count": 88,
   "metadata": {},
   "outputs": [],
   "source": [
    "from xgboost import XGBRegressor"
   ]
  },
  {
   "cell_type": "code",
   "execution_count": 89,
   "metadata": {},
   "outputs": [
    {
     "data": {
      "text/plain": [
       "XGBRegressor(base_score=0.5, booster='gbtree', colsample_bylevel=1,\n",
       "             colsample_bynode=1, colsample_bytree=1, gamma=0, gpu_id=-1,\n",
       "             importance_type='gain', interaction_constraints='',\n",
       "             learning_rate=0.300000012, max_delta_step=0, max_depth=6,\n",
       "             min_child_weight=1, missing=nan, monotone_constraints='()',\n",
       "             n_estimators=100, n_jobs=0, num_parallel_tree=1, random_state=0,\n",
       "             reg_alpha=0, reg_lambda=1, scale_pos_weight=1, subsample=1,\n",
       "             tree_method='exact', validate_parameters=1, verbosity=None)"
      ]
     },
     "execution_count": 89,
     "metadata": {},
     "output_type": "execute_result"
    }
   ],
   "source": [
    "model = XGBRegressor(objective='reg:squarederror')\n",
    "model.fit(df2, df3)"
   ]
  },
  {
   "cell_type": "code",
   "execution_count": 90,
   "metadata": {},
   "outputs": [
    {
     "data": {
      "text/plain": [
       "319.8790175878463"
      ]
     },
     "execution_count": 90,
     "metadata": {},
     "output_type": "execute_result"
    }
   ],
   "source": [
    "y_p=model.predict(df2)\n",
    "mean_squared_error(df3,y_p)"
   ]
  },
  {
   "cell_type": "code",
   "execution_count": 91,
   "metadata": {},
   "outputs": [],
   "source": [
    "y_pred_xgb = model.predict(df5)"
   ]
  },
  {
   "cell_type": "code",
   "execution_count": 92,
   "metadata": {},
   "outputs": [
    {
     "data": {
      "text/plain": [
       "4843.9449938175985"
      ]
     },
     "execution_count": 92,
     "metadata": {},
     "output_type": "execute_result"
    }
   ],
   "source": [
    "mean_squared_error(df6,y_pred_xgb)"
   ]
  },
  {
   "cell_type": "code",
   "execution_count": 93,
   "metadata": {},
   "outputs": [
    {
     "data": {
      "text/plain": [
       "69.59845539821698"
      ]
     },
     "execution_count": 93,
     "metadata": {},
     "output_type": "execute_result"
    }
   ],
   "source": [
    "rmse = np.sqrt(mean_squared_error(df6,y_pred_xgb))\n",
    "rmse"
   ]
  },
  {
   "cell_type": "code",
   "execution_count": 94,
   "metadata": {},
   "outputs": [
    {
     "data": {
      "text/plain": [
       "0.8175582476218262"
      ]
     },
     "execution_count": 94,
     "metadata": {},
     "output_type": "execute_result"
    }
   ],
   "source": [
    "r2_score(df6,y_pred_xgb)"
   ]
  },
  {
   "cell_type": "markdown",
   "metadata": {},
   "source": [
    "### CatBoost"
   ]
  },
  {
   "cell_type": "code",
   "execution_count": 95,
   "metadata": {},
   "outputs": [],
   "source": [
    "from catboost import CatBoostRegressor"
   ]
  },
  {
   "cell_type": "code",
   "execution_count": 96,
   "metadata": {},
   "outputs": [
    {
     "data": {
      "text/plain": [
       "<catboost.core.CatBoostRegressor at 0x18ca2f00430>"
      ]
     },
     "execution_count": 96,
     "metadata": {},
     "output_type": "execute_result"
    }
   ],
   "source": [
    "model = CatBoostRegressor(verbose=0)\n",
    "model.fit(df2,df3)"
   ]
  },
  {
   "cell_type": "code",
   "execution_count": 97,
   "metadata": {},
   "outputs": [
    {
     "data": {
      "text/plain": [
       "315.3890386990503"
      ]
     },
     "execution_count": 97,
     "metadata": {},
     "output_type": "execute_result"
    }
   ],
   "source": [
    "y_p=model.predict(df2)\n",
    "mean_squared_error(df3,y_p)"
   ]
  },
  {
   "cell_type": "code",
   "execution_count": 98,
   "metadata": {},
   "outputs": [],
   "source": [
    "y_pred_cat = model.predict(df5)"
   ]
  },
  {
   "cell_type": "code",
   "execution_count": 99,
   "metadata": {},
   "outputs": [
    {
     "data": {
      "text/plain": [
       "5100.657020733081"
      ]
     },
     "execution_count": 99,
     "metadata": {},
     "output_type": "execute_result"
    }
   ],
   "source": [
    "mean_squared_error(df6,y_pred_cat)"
   ]
  },
  {
   "cell_type": "code",
   "execution_count": 100,
   "metadata": {},
   "outputs": [
    {
     "data": {
      "text/plain": [
       "71.41888420252084"
      ]
     },
     "execution_count": 100,
     "metadata": {},
     "output_type": "execute_result"
    }
   ],
   "source": [
    "rmse = np.sqrt(mean_squared_error(df6,y_pred_cat))\n",
    "rmse"
   ]
  },
  {
   "cell_type": "code",
   "execution_count": 101,
   "metadata": {},
   "outputs": [
    {
     "data": {
      "text/plain": [
       "0.8078894772070526"
      ]
     },
     "execution_count": 101,
     "metadata": {},
     "output_type": "execute_result"
    }
   ],
   "source": [
    "r2_score(df6,y_pred_cat)"
   ]
  },
  {
   "cell_type": "markdown",
   "metadata": {},
   "source": [
    "### EFS"
   ]
  },
  {
   "cell_type": "code",
   "execution_count": 50,
   "metadata": {},
   "outputs": [],
   "source": [
    "from efs.evolutionary_feature_synthesis import EFSRegressor"
   ]
  },
  {
   "cell_type": "code",
   "execution_count": 51,
   "metadata": {},
   "outputs": [],
   "source": [
    "xT = df2.to_numpy()\n",
    "yT = df3.to_numpy()\n",
    "xt = df5.to_numpy()\n",
    "yt = df6.to_numpy()"
   ]
  },
  {
   "cell_type": "code",
   "execution_count": 54,
   "metadata": {},
   "outputs": [],
   "source": [
    "def model(X_train, X_test, y_train, y_test):\n",
    "    sr = EFSRegressor(seed=1,verbose=0,max_gens=50,num_additions=21,max_useless_steps=10)\n",
    "    sr.fit(X_train, y_train) #, feature_names=[\"X1\", \"X2\"])\n",
    "    score = sr.score(X_train, y_train)\n",
    "    print('Train MSE Score: {}'.format(score))\n",
    "    score = sr.score(X_test, y_test)\n",
    "    print('Test MSE Score: {}'.format(score))"
   ]
  },
  {
   "cell_type": "code",
   "execution_count": 55,
   "metadata": {},
   "outputs": [
    {
     "name": "stdout",
     "output_type": "stream",
     "text": [
      "Train MSE Score: 6487.0931275488865\n",
      "Test MSE Score: 8911.5561990393\n",
      "0:09:15.076846\n"
     ]
    }
   ],
   "source": [
    "start = datetime.datetime.now()\n",
    "model(xT,xt,yT,yt)\n",
    "elapsed =  datetime.datetime.now() - start\n",
    "print(elapsed)"
   ]
  },
  {
   "cell_type": "code",
   "execution_count": 6,
   "metadata": {},
   "outputs": [],
   "source": [
    "def model(X_train, X_test, y_train, y_test):\n",
    "    for i in range (1,41):\n",
    "        sr = EFSRegressor(seed=i,verbose=0,max_gens=200,num_additions=21,max_useless_steps=50)\n",
    "        sr.fit(X_train, y_train) #, feature_names=[\"X1\", \"X2\"])\n",
    "        score = sr.score(X_train, y_train)\n",
    "        print(\"Seed :\",i,'Train MSE Score: {}'.format(score))\n",
    "        score = sr.score(X_test, y_test)\n",
    "        print(\"Seed :\",i,'Test MSE Score: {}'.format(score))"
   ]
  },
  {
   "cell_type": "code",
   "execution_count": 7,
   "metadata": {},
   "outputs": [
    {
     "name": "stdout",
     "output_type": "stream",
     "text": [
      "Seed : 1 Train MSE Score: 0.5195083208756751\n",
      "Seed : 1 Test MSE Score: 0.5193264059927016\n",
      "Seed : 2 Train MSE Score: 0.5292412014366958\n",
      "Seed : 2 Test MSE Score: 0.5296001187035769\n",
      "Seed : 3 Train MSE Score: 0.5253391700767023\n",
      "Seed : 3 Test MSE Score: 0.5374086734534602\n",
      "Seed : 4 Train MSE Score: 0.5352979627842254\n",
      "Seed : 4 Test MSE Score: 0.538946698874209\n",
      "Seed : 5 Train MSE Score: 0.5194903109529564\n",
      "Seed : 5 Test MSE Score: 0.5145303369901778\n",
      "Seed : 6 Train MSE Score: 0.5209350794316352\n",
      "Seed : 6 Test MSE Score: 0.5214552026382596\n",
      "Seed : 7 Train MSE Score: 0.5084268040012433\n",
      "Seed : 7 Test MSE Score: 0.5599990167250303\n",
      "Seed : 8 Train MSE Score: 0.5209186548065085\n",
      "Seed : 8 Test MSE Score: 0.5181444046443474\n",
      "Seed : 9 Train MSE Score: 0.5339223594234881\n",
      "Seed : 9 Test MSE Score: 0.5402096449954602\n",
      "Seed : 10 Train MSE Score: 0.5201677200484773\n",
      "Seed : 10 Test MSE Score: 0.51477927900861\n",
      "Seed : 11 Train MSE Score: 0.5179370561347462\n",
      "Seed : 11 Test MSE Score: 0.5127805799598921\n",
      "Seed : 12 Train MSE Score: 0.5297257400233719\n",
      "Seed : 12 Test MSE Score: 0.5245918940373577\n",
      "Seed : 13 Train MSE Score: 0.525512644472431\n",
      "Seed : 13 Test MSE Score: 0.5157902158568112\n",
      "Seed : 14 Train MSE Score: 0.5291678055852919\n",
      "Seed : 14 Test MSE Score: 0.5302779798058957\n",
      "Seed : 15 Train MSE Score: 0.51865056177137\n",
      "Seed : 15 Test MSE Score: 0.5137933234826069\n",
      "Seed : 16 Train MSE Score: 0.5101426559813647\n",
      "Seed : 16 Test MSE Score: 0.5180356415341304\n",
      "Seed : 17 Train MSE Score: 0.5433598898523445\n",
      "Seed : 17 Test MSE Score: 0.544799528978399\n",
      "Seed : 18 Train MSE Score: 0.519588643766704\n",
      "Seed : 18 Test MSE Score: 0.5139158758439158\n",
      "Seed : 19 Train MSE Score: 0.528297191803818\n",
      "Seed : 19 Test MSE Score: 0.534002520549092\n",
      "Seed : 20 Train MSE Score: 0.5133611865741493\n",
      "Seed : 20 Test MSE Score: 0.5070479360956511\n",
      "Seed : 21 Train MSE Score: 0.5302789965012644\n",
      "Seed : 21 Test MSE Score: 0.5210201050883264\n",
      "Seed : 22 Train MSE Score: 0.5305772269566519\n",
      "Seed : 22 Test MSE Score: 0.5332369202119378\n",
      "Seed : 23 Train MSE Score: 0.5080312663874365\n",
      "Seed : 23 Test MSE Score: 0.5400787730487396\n",
      "Seed : 24 Train MSE Score: 0.527424249360678\n",
      "Seed : 24 Test MSE Score: 0.5112656695225423\n",
      "Seed : 25 Train MSE Score: 0.530179124934932\n",
      "Seed : 25 Test MSE Score: 0.5260944712456239\n",
      "Seed : 26 Train MSE Score: 0.5075566427102849\n",
      "Seed : 26 Test MSE Score: 0.49756936980471483\n",
      "Seed : 27 Train MSE Score: 0.5223843057437739\n",
      "Seed : 27 Test MSE Score: 0.5269094749325648\n",
      "Seed : 28 Train MSE Score: 0.5190223979090783\n",
      "Seed : 28 Test MSE Score: 0.5209143948101167\n",
      "Seed : 29 Train MSE Score: 0.5162042169501653\n",
      "Seed : 29 Test MSE Score: 0.590696720383984\n",
      "Seed : 30 Train MSE Score: 0.5253630782374802\n",
      "Seed : 30 Test MSE Score: 0.5218181750293943\n",
      "Seed : 31 Train MSE Score: 0.5139829370809765\n",
      "Seed : 31 Test MSE Score: 0.5096614488365251\n",
      "Seed : 32 Train MSE Score: 0.5144453177266259\n",
      "Seed : 32 Test MSE Score: 0.5058714354216698\n",
      "Seed : 33 Train MSE Score: 0.5222498763756298\n",
      "Seed : 33 Test MSE Score: 0.5223881155893101\n",
      "Seed : 34 Train MSE Score: 0.5184926798838886\n",
      "Seed : 34 Test MSE Score: 0.5179405226214095\n",
      "Seed : 35 Train MSE Score: 0.5249246865967262\n",
      "Seed : 35 Test MSE Score: 0.5405451768719416\n",
      "Seed : 36 Train MSE Score: 0.5249560903216982\n",
      "Seed : 36 Test MSE Score: 0.5379498881540252\n",
      "Seed : 37 Train MSE Score: 0.5397153748145693\n",
      "Seed : 37 Test MSE Score: 0.5311708610645876\n",
      "Seed : 38 Train MSE Score: 0.5107867532033219\n",
      "Seed : 38 Test MSE Score: 0.5043006357422254\n",
      "Seed : 39 Train MSE Score: 0.5239089575194703\n",
      "Seed : 39 Test MSE Score: 0.5179847867060203\n",
      "Seed : 40 Train MSE Score: 0.5269994194014124\n",
      "Seed : 40 Test MSE Score: 0.5237137068094743\n",
      "Seed : 41 Train MSE Score: 0.5254333926713375\n",
      "Seed : 41 Test MSE Score: 0.5200459238976253\n",
      "Seed : 42 Train MSE Score: 0.5200148856595413\n",
      "Seed : 42 Test MSE Score: 0.5609761795908885\n",
      "Seed : 43 Train MSE Score: 0.5191915849420684\n",
      "Seed : 43 Test MSE Score: 0.5128970665147052\n",
      "2:26:06.333240\n"
     ]
    }
   ],
   "source": [
    "start = datetime.datetime.now()\n",
    "model(wir_xT,wir_xt,wir_yT,wir_yt)\n",
    "elapsed =  datetime.datetime.now() - start\n",
    "print(elapsed)"
   ]
  },
  {
   "cell_type": "code",
   "execution_count": 8,
   "metadata": {},
   "outputs": [],
   "source": [
    "def model(X_train, X_test, y_train, y_test):\n",
    "    for i in range (1,41):\n",
    "        sr = EFSRegressor(seed=i,verbose=0,max_gens=200,num_additions=10,max_useless_steps=50)\n",
    "        sr.fit(X_train, y_train) #, feature_names=[\"X1\", \"X2\"])\n",
    "        score = sr.score(X_train, y_train)\n",
    "        print(\"Seed :\",i,'Train MSE Score: {}'.format(score))\n",
    "        score = sr.score(X_test, y_test)\n",
    "        print(\"Seed :\",i,'Test MSE Score: {}'.format(score))"
   ]
  },
  {
   "cell_type": "code",
   "execution_count": 9,
   "metadata": {},
   "outputs": [
    {
     "name": "stdout",
     "output_type": "stream",
     "text": [
      "Seed : 1 Train MSE Score: 0.5385108160449773\n",
      "Seed : 1 Test MSE Score: 0.5251803414567627\n",
      "Seed : 2 Train MSE Score: 0.534356304052832\n",
      "Seed : 2 Test MSE Score: 0.532363369855747\n",
      "Seed : 3 Train MSE Score: 0.5460436625307399\n",
      "Seed : 3 Test MSE Score: 0.5491147809328734\n",
      "Seed : 4 Train MSE Score: 0.532012428794739\n",
      "Seed : 4 Test MSE Score: 0.5226278136482176\n",
      "Seed : 5 Train MSE Score: 0.5250519988116409\n",
      "Seed : 5 Test MSE Score: 0.5199797434688557\n",
      "Seed : 6 Train MSE Score: 0.5301585147311436\n",
      "Seed : 6 Test MSE Score: 0.5223779776610448\n",
      "Seed : 7 Train MSE Score: 0.5315961704551335\n",
      "Seed : 7 Test MSE Score: 0.5231685097766535\n",
      "Seed : 8 Train MSE Score: 0.537689634527153\n",
      "Seed : 8 Test MSE Score: 0.5330654831930209\n",
      "Seed : 9 Train MSE Score: 0.5331060877614571\n",
      "Seed : 9 Test MSE Score: 0.5275320217963582\n",
      "Seed : 10 Train MSE Score: 0.5306860644117738\n",
      "Seed : 10 Test MSE Score: 0.5171697177670509\n",
      "Seed : 11 Train MSE Score: 0.5369925691400524\n",
      "Seed : 11 Test MSE Score: 0.5344040156814336\n",
      "Seed : 12 Train MSE Score: 0.5592666486410636\n",
      "Seed : 12 Test MSE Score: 0.559709305376137\n",
      "Seed : 13 Train MSE Score: 0.5373051338627464\n",
      "Seed : 13 Test MSE Score: 0.5353233519193575\n",
      "Seed : 14 Train MSE Score: 0.5342804485046401\n",
      "Seed : 14 Test MSE Score: 0.5293849261378512\n",
      "Seed : 15 Train MSE Score: 0.5322240586177716\n",
      "Seed : 15 Test MSE Score: 0.5120431350890717\n",
      "Seed : 16 Train MSE Score: 0.5331697056066892\n",
      "Seed : 16 Test MSE Score: 0.5260178673688739\n",
      "Seed : 17 Train MSE Score: 0.5312572687367827\n",
      "Seed : 17 Test MSE Score: 0.5278710904452985\n",
      "Seed : 18 Train MSE Score: 0.5366980550667727\n",
      "Seed : 18 Test MSE Score: 0.5330609252700241\n",
      "Seed : 19 Train MSE Score: 0.522050270582557\n",
      "Seed : 19 Test MSE Score: 0.5201938623373163\n",
      "Seed : 20 Train MSE Score: 0.5234270084387359\n",
      "Seed : 20 Test MSE Score: 0.504165064175074\n",
      "Seed : 21 Train MSE Score: 0.533643943648061\n",
      "Seed : 21 Test MSE Score: 0.5529433152509092\n",
      "Seed : 22 Train MSE Score: 0.5355561414152101\n",
      "Seed : 22 Test MSE Score: 0.5284301061101035\n",
      "Seed : 23 Train MSE Score: 0.5311805403717953\n",
      "Seed : 23 Test MSE Score: 0.5338669016384991\n",
      "Seed : 24 Train MSE Score: 0.5305064420061041\n",
      "Seed : 24 Test MSE Score: 0.5234816090885247\n",
      "Seed : 25 Train MSE Score: 0.5359324663856646\n",
      "Seed : 25 Test MSE Score: 0.5302663821215153\n",
      "Seed : 26 Train MSE Score: 0.5308732482257149\n",
      "Seed : 26 Test MSE Score: 0.5296401764446814\n",
      "Seed : 27 Train MSE Score: 0.528988116172314\n",
      "Seed : 27 Test MSE Score: 0.523641026948275\n",
      "Seed : 28 Train MSE Score: 0.5407143776073295\n",
      "Seed : 28 Test MSE Score: 0.5321634554693563\n",
      "Seed : 29 Train MSE Score: 0.53981207467285\n",
      "Seed : 29 Test MSE Score: 0.5424852155883564\n",
      "Seed : 30 Train MSE Score: 0.5295270650322247\n",
      "Seed : 30 Test MSE Score: 0.5231934262970235\n",
      "Seed : 31 Train MSE Score: 0.5334129568668863\n",
      "Seed : 31 Test MSE Score: 0.5295095227417125\n",
      "Seed : 32 Train MSE Score: 0.5331605098630532\n",
      "Seed : 32 Test MSE Score: 0.5351589661568366\n",
      "Seed : 33 Train MSE Score: 0.5262638941962833\n",
      "Seed : 33 Test MSE Score: 0.5133534342335387\n",
      "Seed : 34 Train MSE Score: 0.5296245910497581\n",
      "Seed : 34 Test MSE Score: 0.5222291707608642\n",
      "Seed : 35 Train MSE Score: 0.5369028139248065\n",
      "Seed : 35 Test MSE Score: 0.5667620704545259\n",
      "Seed : 36 Train MSE Score: 0.5306813254103292\n",
      "Seed : 36 Test MSE Score: 0.5149074624840709\n",
      "Seed : 37 Train MSE Score: 0.5328518384872395\n",
      "Seed : 37 Test MSE Score: 0.527606432893168\n",
      "Seed : 38 Train MSE Score: 0.5322844181405006\n",
      "Seed : 38 Test MSE Score: 0.5302717773170074\n",
      "Seed : 39 Train MSE Score: 0.5278318754426945\n",
      "Seed : 39 Test MSE Score: 0.5121837311160431\n",
      "Seed : 40 Train MSE Score: 0.5394313352947899\n",
      "Seed : 40 Test MSE Score: 0.5401631762975313\n",
      "Seed : 41 Train MSE Score: 0.5328192929524511\n",
      "Seed : 41 Test MSE Score: 0.5274112083084257\n",
      "Seed : 42 Train MSE Score: 0.5327771258740905\n",
      "Seed : 42 Test MSE Score: 0.5278112177462303\n",
      "Seed : 43 Train MSE Score: 0.5352852071661021\n",
      "Seed : 43 Test MSE Score: 0.5264543994614133\n",
      "0:55:33.439686\n"
     ]
    }
   ],
   "source": [
    "start = datetime.datetime.now()\n",
    "model(wir_xT,wir_xt,wir_yT,wir_yt)\n",
    "elapsed =  datetime.datetime.now() - start\n",
    "print(elapsed)"
   ]
  }
 ],
 "metadata": {
  "kernelspec": {
   "display_name": "Python 3",
   "language": "python",
   "name": "python3"
  },
  "language_info": {
   "codemirror_mode": {
    "name": "ipython",
    "version": 3
   },
   "file_extension": ".py",
   "mimetype": "text/x-python",
   "name": "python",
   "nbconvert_exporter": "python",
   "pygments_lexer": "ipython3",
   "version": "3.8.5"
  }
 },
 "nbformat": 4,
 "nbformat_minor": 4
}
