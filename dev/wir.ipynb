{
 "cells": [
  {
   "cell_type": "code",
   "execution_count": 1,
   "metadata": {},
   "outputs": [],
   "source": [
    "import pandas as pd\n",
    "import numpy as np\n",
    "import datetime\n",
    "import itertools"
   ]
  },
  {
   "cell_type": "code",
   "execution_count": 2,
   "metadata": {},
   "outputs": [],
   "source": [
    "from pefs.evolutionary_feature_synthesis import EFSRegressor"
   ]
  },
  {
   "cell_type": "markdown",
   "metadata": {},
   "source": [
    "## WIR"
   ]
  },
  {
   "cell_type": "code",
   "execution_count": 3,
   "metadata": {},
   "outputs": [],
   "source": [
    "from sklearn.metrics import mean_squared_error,r2_score"
   ]
  },
  {
   "cell_type": "code",
   "execution_count": 4,
   "metadata": {},
   "outputs": [],
   "source": [
    "df1 = pd.read_csv('data_WIR_xtrain_label.csv')\n",
    "#df2 = pd.read_csv('data_ENC_H_ytrain1_label.csv')\n",
    "df3 = pd.read_csv('data_WIR_ytrain_label.csv')\n",
    "df4 = pd.read_csv('data_WIR_xtest_label.csv')\n",
    "#df5 = pd.read_csv('data_ENC_H_ytest1_label.csv')\n",
    "df6 = pd.read_csv('data_WIR_ytest_label.csv')"
   ]
  },
  {
   "cell_type": "markdown",
   "metadata": {},
   "source": [
    "### ElasticNetCV"
   ]
  },
  {
   "cell_type": "code",
   "execution_count": 5,
   "metadata": {},
   "outputs": [],
   "source": [
    "from sklearn.linear_model import ElasticNetCV"
   ]
  },
  {
   "cell_type": "code",
   "execution_count": 6,
   "metadata": {},
   "outputs": [
    {
     "data": {
      "text/plain": [
       "ElasticNetCV()"
      ]
     },
     "execution_count": 6,
     "metadata": {},
     "output_type": "execute_result"
    }
   ],
   "source": [
    "en = ElasticNetCV()\n",
    "en.fit(df1,df3.values.ravel())"
   ]
  },
  {
   "cell_type": "code",
   "execution_count": 7,
   "metadata": {},
   "outputs": [
    {
     "data": {
      "text/plain": [
       "0.43795659619535093"
      ]
     },
     "execution_count": 7,
     "metadata": {},
     "output_type": "execute_result"
    }
   ],
   "source": [
    "y_p=en.predict(df1)\n",
    "mean_squared_error(df3,y_p)"
   ]
  },
  {
   "cell_type": "code",
   "execution_count": 8,
   "metadata": {},
   "outputs": [],
   "source": [
    "y_pred_en=en.predict(df4)"
   ]
  },
  {
   "cell_type": "code",
   "execution_count": 9,
   "metadata": {},
   "outputs": [
    {
     "data": {
      "text/plain": [
       "0.42065400845825024"
      ]
     },
     "execution_count": 9,
     "metadata": {},
     "output_type": "execute_result"
    }
   ],
   "source": [
    "mean_squared_error(df6,y_pred_en)"
   ]
  },
  {
   "cell_type": "code",
   "execution_count": 10,
   "metadata": {},
   "outputs": [
    {
     "data": {
      "text/plain": [
       "0.6485784520458957"
      ]
     },
     "execution_count": 10,
     "metadata": {},
     "output_type": "execute_result"
    }
   ],
   "source": [
    "rmse = np.sqrt(mean_squared_error(df6,y_pred_en))\n",
    "rmse"
   ]
  },
  {
   "cell_type": "code",
   "execution_count": 11,
   "metadata": {},
   "outputs": [
    {
     "data": {
      "text/plain": [
       "0.37102267095677866"
      ]
     },
     "execution_count": 11,
     "metadata": {},
     "output_type": "execute_result"
    }
   ],
   "source": [
    "r2_score(df6,y_pred_en)"
   ]
  },
  {
   "cell_type": "markdown",
   "metadata": {},
   "source": [
    "### Linear Regression"
   ]
  },
  {
   "cell_type": "code",
   "execution_count": 12,
   "metadata": {},
   "outputs": [],
   "source": [
    "from sklearn.linear_model import LinearRegression"
   ]
  },
  {
   "cell_type": "code",
   "execution_count": 13,
   "metadata": {},
   "outputs": [
    {
     "data": {
      "text/plain": [
       "LinearRegression()"
      ]
     },
     "execution_count": 13,
     "metadata": {},
     "output_type": "execute_result"
    }
   ],
   "source": [
    "lr = LinearRegression()\n",
    "lr.fit(df1,df3)"
   ]
  },
  {
   "cell_type": "code",
   "execution_count": 14,
   "metadata": {},
   "outputs": [
    {
     "data": {
      "text/plain": [
       "0.42419663939601115"
      ]
     },
     "execution_count": 14,
     "metadata": {},
     "output_type": "execute_result"
    }
   ],
   "source": [
    "y_p=lr.predict(df1)\n",
    "mean_squared_error(df3,y_p)"
   ]
  },
  {
   "cell_type": "code",
   "execution_count": 15,
   "metadata": {},
   "outputs": [],
   "source": [
    "y_pred_lr=lr.predict(df4)"
   ]
  },
  {
   "cell_type": "code",
   "execution_count": 16,
   "metadata": {},
   "outputs": [
    {
     "data": {
      "text/plain": [
       "0.4124123359579612"
      ]
     },
     "execution_count": 16,
     "metadata": {},
     "output_type": "execute_result"
    }
   ],
   "source": [
    "mean_squared_error(df6,y_pred_lr)"
   ]
  },
  {
   "cell_type": "code",
   "execution_count": 17,
   "metadata": {},
   "outputs": [
    {
     "data": {
      "text/plain": [
       "0.6421933789427926"
      ]
     },
     "execution_count": 17,
     "metadata": {},
     "output_type": "execute_result"
    }
   ],
   "source": [
    "rmse = np.sqrt(mean_squared_error(df6,y_pred_lr))\n",
    "rmse"
   ]
  },
  {
   "cell_type": "code",
   "execution_count": 18,
   "metadata": {},
   "outputs": [
    {
     "data": {
      "text/plain": [
       "0.383345922493309"
      ]
     },
     "execution_count": 18,
     "metadata": {},
     "output_type": "execute_result"
    }
   ],
   "source": [
    "r2_score(df6,y_pred_lr)"
   ]
  },
  {
   "cell_type": "markdown",
   "metadata": {},
   "source": [
    "### Decision Tree"
   ]
  },
  {
   "cell_type": "code",
   "execution_count": 19,
   "metadata": {},
   "outputs": [],
   "source": [
    "from sklearn.tree import DecisionTreeRegressor"
   ]
  },
  {
   "cell_type": "code",
   "execution_count": 20,
   "metadata": {},
   "outputs": [
    {
     "data": {
      "text/plain": [
       "DecisionTreeRegressor(max_depth=7)"
      ]
     },
     "execution_count": 20,
     "metadata": {},
     "output_type": "execute_result"
    }
   ],
   "source": [
    "dt = DecisionTreeRegressor(max_depth=7)\n",
    "dt.fit(df1,df3)"
   ]
  },
  {
   "cell_type": "code",
   "execution_count": 21,
   "metadata": {},
   "outputs": [
    {
     "data": {
      "text/plain": [
       "0.20284765011008102"
      ]
     },
     "execution_count": 21,
     "metadata": {},
     "output_type": "execute_result"
    }
   ],
   "source": [
    "y_p=dt.predict(df1)\n",
    "mean_squared_error(df3,y_p)"
   ]
  },
  {
   "cell_type": "code",
   "execution_count": 22,
   "metadata": {},
   "outputs": [],
   "source": [
    "y_pred_dt=dt.predict(df4)"
   ]
  },
  {
   "cell_type": "code",
   "execution_count": 23,
   "metadata": {},
   "outputs": [
    {
     "data": {
      "text/plain": [
       "0.4959033394756597"
      ]
     },
     "execution_count": 23,
     "metadata": {},
     "output_type": "execute_result"
    }
   ],
   "source": [
    "mean_squared_error(df6,y_pred_dt)"
   ]
  },
  {
   "cell_type": "code",
   "execution_count": 24,
   "metadata": {},
   "outputs": [
    {
     "data": {
      "text/plain": [
       "0.7042040467617746"
      ]
     },
     "execution_count": 24,
     "metadata": {},
     "output_type": "execute_result"
    }
   ],
   "source": [
    "rmse = np.sqrt(mean_squared_error(df6,y_pred_dt))\n",
    "rmse"
   ]
  },
  {
   "cell_type": "code",
   "execution_count": 25,
   "metadata": {},
   "outputs": [
    {
     "data": {
      "text/plain": [
       "0.2585071064217104"
      ]
     },
     "execution_count": 25,
     "metadata": {},
     "output_type": "execute_result"
    }
   ],
   "source": [
    "r2_score(df6,y_pred_dt)"
   ]
  },
  {
   "cell_type": "markdown",
   "metadata": {},
   "source": [
    "### Random Forest"
   ]
  },
  {
   "cell_type": "code",
   "execution_count": 26,
   "metadata": {},
   "outputs": [],
   "source": [
    "from sklearn.ensemble import RandomForestRegressor"
   ]
  },
  {
   "cell_type": "code",
   "execution_count": 27,
   "metadata": {},
   "outputs": [
    {
     "data": {
      "text/plain": [
       "RandomForestRegressor()"
      ]
     },
     "execution_count": 27,
     "metadata": {},
     "output_type": "execute_result"
    }
   ],
   "source": [
    "model = RandomForestRegressor()\n",
    "model.fit(df1,df3.values.ravel())"
   ]
  },
  {
   "cell_type": "code",
   "execution_count": 28,
   "metadata": {},
   "outputs": [
    {
     "data": {
      "text/plain": [
       "0.04873527204502814"
      ]
     },
     "execution_count": 28,
     "metadata": {},
     "output_type": "execute_result"
    }
   ],
   "source": [
    "y_p=model.predict(df1)\n",
    "mean_squared_error(df3,y_p)"
   ]
  },
  {
   "cell_type": "code",
   "execution_count": 29,
   "metadata": {},
   "outputs": [],
   "source": [
    "y_pred_rf = model.predict(df4)"
   ]
  },
  {
   "cell_type": "code",
   "execution_count": 30,
   "metadata": {},
   "outputs": [
    {
     "data": {
      "text/plain": [
       "0.3448013133208256"
      ]
     },
     "execution_count": 30,
     "metadata": {},
     "output_type": "execute_result"
    }
   ],
   "source": [
    "mean_squared_error(df6,y_pred_rf)"
   ]
  },
  {
   "cell_type": "code",
   "execution_count": 31,
   "metadata": {},
   "outputs": [
    {
     "data": {
      "text/plain": [
       "0.7042040467617746"
      ]
     },
     "execution_count": 31,
     "metadata": {},
     "output_type": "execute_result"
    }
   ],
   "source": [
    "rmse = np.sqrt(mean_squared_error(df6,y_pred_dt))\n",
    "rmse"
   ]
  },
  {
   "cell_type": "code",
   "execution_count": 32,
   "metadata": {},
   "outputs": [
    {
     "data": {
      "text/plain": [
       "0.4844404076927933"
      ]
     },
     "execution_count": 32,
     "metadata": {},
     "output_type": "execute_result"
    }
   ],
   "source": [
    "r2_score(df6,y_pred_rf)"
   ]
  },
  {
   "cell_type": "markdown",
   "metadata": {},
   "source": [
    "### Support Vector Machines"
   ]
  },
  {
   "cell_type": "code",
   "execution_count": 33,
   "metadata": {},
   "outputs": [],
   "source": [
    "from sklearn.svm import SVR"
   ]
  },
  {
   "cell_type": "code",
   "execution_count": 34,
   "metadata": {},
   "outputs": [
    {
     "data": {
      "text/plain": [
       "SVR()"
      ]
     },
     "execution_count": 34,
     "metadata": {},
     "output_type": "execute_result"
    }
   ],
   "source": [
    "svm = SVR(kernel='rbf')\n",
    "svm.fit(df1,df3.values.ravel())"
   ]
  },
  {
   "cell_type": "code",
   "execution_count": 35,
   "metadata": {},
   "outputs": [
    {
     "data": {
      "text/plain": [
       "0.5520259764638467"
      ]
     },
     "execution_count": 35,
     "metadata": {},
     "output_type": "execute_result"
    }
   ],
   "source": [
    "y_p=svm.predict(df1)\n",
    "mean_squared_error(df3,y_p)"
   ]
  },
  {
   "cell_type": "code",
   "execution_count": 36,
   "metadata": {},
   "outputs": [],
   "source": [
    "y_pred_svm=svm.predict(df4)"
   ]
  },
  {
   "cell_type": "code",
   "execution_count": 37,
   "metadata": {},
   "outputs": [
    {
     "data": {
      "text/plain": [
       "0.5761147552900073"
      ]
     },
     "execution_count": 37,
     "metadata": {},
     "output_type": "execute_result"
    }
   ],
   "source": [
    "mean_squared_error(df6,y_pred_svm)"
   ]
  },
  {
   "cell_type": "code",
   "execution_count": 38,
   "metadata": {},
   "outputs": [
    {
     "data": {
      "text/plain": [
       "0.7590222363607059"
      ]
     },
     "execution_count": 38,
     "metadata": {},
     "output_type": "execute_result"
    }
   ],
   "source": [
    "rmse = np.sqrt(mean_squared_error(df6,y_pred_svm))\n",
    "rmse"
   ]
  },
  {
   "cell_type": "code",
   "execution_count": 39,
   "metadata": {},
   "outputs": [
    {
     "data": {
      "text/plain": [
       "0.1385720503822031"
      ]
     },
     "execution_count": 39,
     "metadata": {},
     "output_type": "execute_result"
    }
   ],
   "source": [
    "r2_score(df6,y_pred_svm)"
   ]
  },
  {
   "cell_type": "markdown",
   "metadata": {},
   "source": [
    "### XGBoost"
   ]
  },
  {
   "cell_type": "code",
   "execution_count": 40,
   "metadata": {},
   "outputs": [],
   "source": [
    "from xgboost import XGBRegressor"
   ]
  },
  {
   "cell_type": "code",
   "execution_count": 41,
   "metadata": {},
   "outputs": [
    {
     "data": {
      "text/plain": [
       "XGBRegressor(base_score=0.5, booster='gbtree', colsample_bylevel=1,\n",
       "             colsample_bynode=1, colsample_bytree=1, gamma=0, gpu_id=-1,\n",
       "             importance_type='gain', interaction_constraints='',\n",
       "             learning_rate=0.300000012, max_delta_step=0, max_depth=6,\n",
       "             min_child_weight=1, missing=nan, monotone_constraints='()',\n",
       "             n_estimators=100, n_jobs=0, num_parallel_tree=1, random_state=0,\n",
       "             reg_alpha=0, reg_lambda=1, scale_pos_weight=1, subsample=1,\n",
       "             tree_method='exact', validate_parameters=1, verbosity=None)"
      ]
     },
     "execution_count": 41,
     "metadata": {},
     "output_type": "execute_result"
    }
   ],
   "source": [
    "model = XGBRegressor(objective='reg:squarederror')\n",
    "model.fit(df1, df3)"
   ]
  },
  {
   "cell_type": "code",
   "execution_count": 42,
   "metadata": {},
   "outputs": [
    {
     "data": {
      "text/plain": [
       "0.0009965828647332154"
      ]
     },
     "execution_count": 42,
     "metadata": {},
     "output_type": "execute_result"
    }
   ],
   "source": [
    "y_p=model.predict(df1)\n",
    "mean_squared_error(df3,y_p)"
   ]
  },
  {
   "cell_type": "code",
   "execution_count": 43,
   "metadata": {},
   "outputs": [],
   "source": [
    "y_pred_xgb = model.predict(df4)"
   ]
  },
  {
   "cell_type": "code",
   "execution_count": 44,
   "metadata": {},
   "outputs": [
    {
     "data": {
      "text/plain": [
       "0.3739790978223959"
      ]
     },
     "execution_count": 44,
     "metadata": {},
     "output_type": "execute_result"
    }
   ],
   "source": [
    "mean_squared_error(df6,y_pred_xgb)"
   ]
  },
  {
   "cell_type": "code",
   "execution_count": 45,
   "metadata": {},
   "outputs": [
    {
     "data": {
      "text/plain": [
       "0.6115383044604777"
      ]
     },
     "execution_count": 45,
     "metadata": {},
     "output_type": "execute_result"
    }
   ],
   "source": [
    "rmse = np.sqrt(mean_squared_error(df6,y_pred_xgb))\n",
    "rmse"
   ]
  },
  {
   "cell_type": "code",
   "execution_count": 46,
   "metadata": {},
   "outputs": [
    {
     "data": {
      "text/plain": [
       "0.44081271226095997"
      ]
     },
     "execution_count": 46,
     "metadata": {},
     "output_type": "execute_result"
    }
   ],
   "source": [
    "r2_score(df6,y_pred_xgb)"
   ]
  },
  {
   "cell_type": "markdown",
   "metadata": {},
   "source": [
    "### LightGBM"
   ]
  },
  {
   "cell_type": "code",
   "execution_count": 47,
   "metadata": {},
   "outputs": [],
   "source": [
    "from lightgbm import LGBMRegressor"
   ]
  },
  {
   "cell_type": "code",
   "execution_count": 48,
   "metadata": {},
   "outputs": [
    {
     "data": {
      "text/plain": [
       "LGBMRegressor()"
      ]
     },
     "execution_count": 48,
     "metadata": {},
     "output_type": "execute_result"
    }
   ],
   "source": [
    "model = LGBMRegressor()\n",
    "model.fit(df1, df3)"
   ]
  },
  {
   "cell_type": "code",
   "execution_count": 49,
   "metadata": {},
   "outputs": [
    {
     "data": {
      "text/plain": [
       "0.04605140063493563"
      ]
     },
     "execution_count": 49,
     "metadata": {},
     "output_type": "execute_result"
    }
   ],
   "source": [
    "y_p=model.predict(df1)\n",
    "mean_squared_error(df3,y_p)"
   ]
  },
  {
   "cell_type": "code",
   "execution_count": 50,
   "metadata": {},
   "outputs": [],
   "source": [
    "y_pred_lgb = model.predict(df4)"
   ]
  },
  {
   "cell_type": "code",
   "execution_count": 51,
   "metadata": {},
   "outputs": [
    {
     "data": {
      "text/plain": [
       "0.3820578481728129"
      ]
     },
     "execution_count": 51,
     "metadata": {},
     "output_type": "execute_result"
    }
   ],
   "source": [
    "mean_squared_error(df6,y_pred_lgb)"
   ]
  },
  {
   "cell_type": "code",
   "execution_count": 52,
   "metadata": {},
   "outputs": [
    {
     "data": {
      "text/plain": [
       "0.6181082819157279"
      ]
     },
     "execution_count": 52,
     "metadata": {},
     "output_type": "execute_result"
    }
   ],
   "source": [
    "rmse = np.sqrt(mean_squared_error(df6,y_pred_lgb))\n",
    "rmse"
   ]
  },
  {
   "cell_type": "code",
   "execution_count": 53,
   "metadata": {},
   "outputs": [
    {
     "data": {
      "text/plain": [
       "0.4287330679089756"
      ]
     },
     "execution_count": 53,
     "metadata": {},
     "output_type": "execute_result"
    }
   ],
   "source": [
    "r2_score(df6,y_pred_lgb)"
   ]
  },
  {
   "cell_type": "markdown",
   "metadata": {},
   "source": [
    "### CatBoost"
   ]
  },
  {
   "cell_type": "code",
   "execution_count": 54,
   "metadata": {},
   "outputs": [],
   "source": [
    "from catboost import CatBoostRegressor"
   ]
  },
  {
   "cell_type": "code",
   "execution_count": 55,
   "metadata": {},
   "outputs": [
    {
     "data": {
      "text/plain": [
       "<catboost.core.CatBoostRegressor at 0x1f8d59ce448>"
      ]
     },
     "execution_count": 55,
     "metadata": {},
     "output_type": "execute_result"
    }
   ],
   "source": [
    "model = CatBoostRegressor(verbose=0)\n",
    "model.fit(df1,df3)"
   ]
  },
  {
   "cell_type": "code",
   "execution_count": 56,
   "metadata": {},
   "outputs": [
    {
     "data": {
      "text/plain": [
       "0.052971985917544546"
      ]
     },
     "execution_count": 56,
     "metadata": {},
     "output_type": "execute_result"
    }
   ],
   "source": [
    "y_p=model.predict(df1)\n",
    "mean_squared_error(df3,y_p)"
   ]
  },
  {
   "cell_type": "code",
   "execution_count": 57,
   "metadata": {},
   "outputs": [],
   "source": [
    "y_pred_cat = model.predict(df4)"
   ]
  },
  {
   "cell_type": "code",
   "execution_count": 58,
   "metadata": {},
   "outputs": [
    {
     "data": {
      "text/plain": [
       "0.35864048822250605"
      ]
     },
     "execution_count": 58,
     "metadata": {},
     "output_type": "execute_result"
    }
   ],
   "source": [
    "mean_squared_error(df6,y_pred_cat)"
   ]
  },
  {
   "cell_type": "code",
   "execution_count": 59,
   "metadata": {},
   "outputs": [
    {
     "data": {
      "text/plain": [
       "0.5988660018923315"
      ]
     },
     "execution_count": 59,
     "metadata": {},
     "output_type": "execute_result"
    }
   ],
   "source": [
    "rmse = np.sqrt(mean_squared_error(df6,y_pred_cat))\n",
    "rmse"
   ]
  },
  {
   "cell_type": "code",
   "execution_count": 60,
   "metadata": {},
   "outputs": [
    {
     "data": {
      "text/plain": [
       "0.46374756490324254"
      ]
     },
     "execution_count": 60,
     "metadata": {},
     "output_type": "execute_result"
    }
   ],
   "source": [
    "r2_score(df6,y_pred_cat)"
   ]
  },
  {
   "cell_type": "markdown",
   "metadata": {},
   "source": [
    "### EFS"
   ]
  },
  {
   "cell_type": "code",
   "execution_count": 61,
   "metadata": {},
   "outputs": [],
   "source": [
    "wir_xT = np.genfromtxt('data_WIR_xtrain.csv', delimiter=',')\n",
    "wir_yT = np.genfromtxt('data_WIR_ytrain.csv', delimiter=',')\n",
    "wir_xt = np.genfromtxt('data_WIR_xtest.csv', delimiter=',')\n",
    "wir_yt = np.genfromtxt('data_WIR_ytest.csv', delimiter=',')"
   ]
  },
  {
   "cell_type": "code",
   "execution_count": 62,
   "metadata": {},
   "outputs": [],
   "source": [
    "def model(X_train, X_test, y_train, y_test):\n",
    "    sr = EFSRegressor(seed=1,verbose=5,max_gens=200,num_additions=10,max_useless_steps=50)\n",
    "    sr.fit(X_train, y_train) #, feature_names=[\"X1\", \"X2\"])\n",
    "    score = sr.score(X_train, y_train)\n",
    "    print('Train MSE Score: {}'.format(score))\n",
    "    score = sr.score(X_test, y_test)\n",
    "    print('Test MSE Score: {}'.format(score))"
   ]
  },
  {
   "cell_type": "code",
   "execution_count": null,
   "metadata": {},
   "outputs": [
    {
     "name": "stdout",
     "output_type": "stream",
     "text": [
      "Starting modeling process with features: \n",
      "x0\n",
      "x1\n",
      "x2\n",
      "x3\n",
      "x4\n",
      "x5\n",
      "x6\n",
      "x7\n",
      "x8\n",
      "x9\n",
      "x10\n",
      "Generation: 1\n",
      "Scoring model with 11 features.\n",
      "Current Features: [x0] + [x1] + [x2] + [x3] + [x4] + [x5] + [x6] + [x7] + [x8] + [x9] + [x10] Count: 11\n",
      "Score: 0.42474613563138564\n",
      "New Best Model Score: 0.42474613563138564\n",
      "-------------------------------------------------------\n",
      "Duplicated Features []\n",
      "Adding 5 features to population.\n",
      "Added Features: [(x9 - x5)] + [min(x10,x0)] + [(x2 / x2)] + [(x2 - x3)] + [min(x7,x9)]\n",
      "Top performing features:\n",
      "x10: 24.61373418827117\n",
      "min(x7,x9): 22.681776181203677\n",
      "(x2 / x2): 14.646816929417746\n",
      "Generation: 2\n",
      "Scoring model with 16 features.\n",
      "Current Features: [x10] + [min(x7,x9)] + [(x2 / x2)] + [x0] + [min(x10,x0)] + [x3] + [x1] + [x2] + [x4] + [x5] + [x6] + [x7] + [x8] + [x9] + [(x9 - x5)] + [(x2 - x3)] Count: 16\n",
      "Score: 0.4160578665223381\n",
      "Best Model Score: 0.42474613563138564 Generation Number :1\n",
      "New Best Model Score: 0.4160578665223381\n",
      "-------------------------------------------------------\n",
      "Duplicated Features []\n",
      "Adding 1 features to population.\n",
      "Added Features: [((x2 / x2) / x3)]\n",
      "Top performing features:\n",
      "x10: 24.610487645047005\n",
      "min(x7,x9): 22.67849300239002\n",
      "(x2 / x2): 14.643646474003567\n",
      "Generation: 3\n",
      "Scoring model with 17 features.\n",
      "Current Features: [x10] + [min(x7,x9)] + [(x2 / x2)] + [x0] + [min(x10,x0)] + [x3] + [x1] + [x2] + [x4] + [x5] + [x6] + [x7] + [x8] + [x9] + [(x9 - x5)] + [(x2 - x3)] + [((x2 / x2) / x3)] Count: 17\n",
      "Score: 0.41520296770938214\n",
      "Best Model Score: 0.4160578665223381 Generation Number :2\n",
      "New Best Model Score: 0.41520296770938214\n",
      "-------------------------------------------------------\n",
      "new_feature array is nearly constant for parity 02\n",
      "Duplicated Features []\n",
      "Adding 2 features to population.\n",
      "Added Features: [(min(x10,x0) - x3)] + [(x0 / (x2 - x3))]\n",
      "Top performing features:\n",
      "x10: 24.641448727875456\n",
      "min(x7,x9): 22.71093310214463\n",
      "(x2 / x2): 14.678829338948574\n",
      "Generation: 4\n",
      "Scoring model with 19 features.\n",
      "Current Features: [x10] + [min(x7,x9)] + [(x2 / x2)] + [x0] + [min(x10,x0)] + [x3] + [x1] + [x2] + [x4] + [x5] + [x6] + [x7] + [x8] + [x9] + [(x9 - x5)] + [(x2 - x3)] + [((x2 / x2) / x3)] + [(min(x10,x0) - x3)] + [(x0 / (x2 - x3))] Count: 19\n",
      "Score: 0.41478331526615086\n",
      "Best Model Score: 0.41520296770938214 Generation Number :3\n",
      "New Best Model Score: 0.41478331526615086\n",
      "-------------------------------------------------------\n",
      "Duplicated Features []\n",
      "Adding 3 features to population.\n",
      "Added Features: [(x8 - x1)] + [((x0 / (x2 - x3)) * ((x2 / x2) / x3))] + [(x0 * min(x7,x9))] + [(((x2 / x2) / x3) * min(x10,x0))]\n",
      "Top performing features:\n",
      "x10: 24.558562435765158\n",
      "min(x7,x9): 22.608260953365566\n",
      "(x2 / x2): 14.251394072900752\n",
      "Generation: 5\n",
      "Scoring model with 22 features.\n",
      "Current Features: [x10] + [min(x7,x9)] + [(x2 / x2)] + [(x0 * min(x7,x9))] + [min(x10,x0)] + [x0] + [x3] + [x1] + [x2] + [x4] + [x5] + [x6] + [x7] + [x8] + [x9] + [(x9 - x5)] + [(x2 - x3)] + [((x2 / x2) / x3)] + [(min(x10,x0) - x3)] + [(x0 / (x2 - x3))] + [(x8 - x1)] + [(((x2 / x2) / x3) * min(x10,x0))] Count: 22\n",
      "Score: 0.4154640439732511\n",
      "Best Model Score: 0.41478331526615086 Generation Number :4\n",
      "-------------------------------------------------------\n",
      "Duplicated Features []\n",
      "Adding 3 features to population.\n",
      "Added Features: [((x0 * min(x7,x9)) + (x2 - x3))] + [((x2 / x2) - min(x7,x9))] + [((x2 / x2) / (x2 - x3))]\n",
      "Top performing features:\n",
      "x10: 24.57740193698647\n",
      "min(x7,x9): 22.632193456803353\n",
      "(x2 / x2): 14.284968162022333\n",
      "Generation: 6\n",
      "Scoring model with 22 features.\n",
      "Current Features: [x10] + [min(x7,x9)] + [(x2 / x2)] + [(x0 * min(x7,x9))] + [min(x10,x0)] + [((x2 / x2) / (x2 - x3))] + [x0] + [x3] + [x1] + [x2] + [x4] + [x5] + [x6] + [x7] + [x8] + [x9] + [(x9 - x5)] + [(x2 - x3)] + [((x2 / x2) / x3)] + [(min(x10,x0) - x3)] + [(x0 / (x2 - x3))] + [(x8 - x1)] Count: 22\n",
      "Score: 0.41342455195568883\n",
      "Best Model Score: 0.41478331526615086 Generation Number :4\n",
      "New Best Model Score: 0.41342455195568883\n",
      "-------------------------------------------------------\n",
      "new_feature array is nearly constant for parity 02\n",
      "Duplicated Features []\n",
      "Adding 4 features to population.\n",
      "Added Features: [((x8 - x1) / ((x2 / x2) / (x2 - x3)))] + [min(x10,x0)] + [((x0 / (x2 - x3)) * (x2 / x2))] + [(min(x7,x9) * (x8 - x1))] + [(x3 * ((x2 / x2) / (x2 - x3)))]\n",
      "Top performing features:\n",
      "x10: 24.67885122854446\n",
      "(min(x7,x9) * (x8 - x1)): 23.86512600845817\n",
      "min(x7,x9): 17.28822083511485\n",
      "Generation: 7\n",
      "Scoring model with 22 features.\n",
      "Current Features: [x10] + [(min(x7,x9) * (x8 - x1))] + [min(x7,x9)] + [(x2 / x2)] + [(x0 * min(x7,x9))] + [min(x10,x0)] + [((x2 / x2) / (x2 - x3))] + [x0] + [x3] + [((x0 / (x2 - x3)) * (x2 / x2))] + [x1] + [x2] + [x4] + [x5] + [x6] + [x7] + [x8] + [x9] + [(x9 - x5)] + [(x2 - x3)] + [((x2 / x2) / x3)] + [(min(x10,x0) - x3)] Count: 22\n",
      "Score: 0.416164073656901\n",
      "Best Model Score: 0.41342455195568883 Generation Number :6\n",
      "-------------------------------------------------------\n",
      "Duplicated Features []\n",
      "Adding 4 features to population.\n",
      "Added Features: [((x2 / x2) / x9)] + [(x9 - min(x7,x9))] + [((x2 - x3) * ((x2 / x2) / (x2 - x3)))] + [((min(x7,x9) * (x8 - x1)) * x4)] + [(x0 / x10)]\n",
      "Top performing features:\n",
      "x10: 24.499341485290127\n",
      "(min(x7,x9) * (x8 - x1)): 23.682782446851082\n",
      "min(x7,x9): 15.477430707482373\n",
      "Generation: 8\n",
      "Scoring model with 22 features.\n",
      "Current Features: [x10] + [(min(x7,x9) * (x8 - x1))] + [min(x7,x9)] + [(x2 / x2)] + [(x0 * min(x7,x9))] + [min(x10,x0)] + [(x0 / x10)] + [x0] + [x5] + [x3] + [((x2 / x2) / (x2 - x3))] + [x1] + [x2] + [x4] + [x6] + [x7] + [x8] + [x9] + [((x0 / (x2 - x3)) * (x2 / x2))] + [(x9 - x5)] + [(x2 - x3)] + [((x2 / x2) / x3)] Count: 22\n",
      "Score: 0.4161641959204242\n",
      "Best Model Score: 0.41342455195568883 Generation Number :6\n",
      "-------------------------------------------------------\n",
      "Duplicated Features []\n",
      "Adding 2 features to population.\n",
      "Added Features: [min(x3,min(x10,x0))] + [(x2 - (x0 / x10))] + [((min(x7,x9) * (x8 - x1)) + (x2 / x2))]\n",
      "Top performing features:\n",
      "x10: 24.6987796477912\n",
      "(min(x7,x9) * (x8 - x1)): 23.883902773099052\n",
      "min(x7,x9): 17.302294291751128\n",
      "Generation: 9\n",
      "Scoring model with 22 features.\n",
      "Current Features: [x10] + [(min(x7,x9) * (x8 - x1))] + [min(x7,x9)] + [(x2 / x2)] + [(x0 * min(x7,x9))] + [min(x10,x0)] + [x3] + [(x0 / x10)] + [x0] + [x5] + [x1] + [x2] + [x4] + [x6] + [x7] + [x8] + [x9] + [((x2 / x2) / (x2 - x3))] + [((x0 / (x2 - x3)) * (x2 / x2))] + [(x9 - x5)] + [(x2 - x3)] + [((x2 / x2) / x3)] Count: 22\n",
      "Score: 0.41616463373313106\n",
      "Best Model Score: 0.41342455195568883 Generation Number :6\n",
      "-------------------------------------------------------\n",
      "Duplicated Features []\n",
      "Adding 5 features to population.\n",
      "Added Features: [min((x0 / x10),(x2 / x2))] + [min(x5,x0)] + [((x2 / x2) / (x9 - x5))] + [(x10 - x6)] + [(x3 * min(x10,x0))]\n",
      "Top performing features:\n",
      "x10: 24.574427855406697\n",
      "(min(x7,x9) * (x8 - x1)): 23.753739633875874\n",
      "(x10 - x6): 20.085977290604667\n",
      "Generation: 10\n",
      "Scoring model with 22 features.\n",
      "Current Features: [x10] + [(min(x7,x9) * (x8 - x1))] + [(x10 - x6)] + [min(x7,x9)] + [(x2 / x2)] + [(x0 * min(x7,x9))] + [((x2 / x2) / (x9 - x5))] + [min(x10,x0)] + [(x0 / x10)] + [min(x5,x0)] + [x0] + [((x2 / x2) / (x2 - x3))] + [x3] + [x5] + [x1] + [x2] + [x4] + [x6] + [x7] + [x8] + [x9] + [((x0 / (x2 - x3)) * (x2 / x2))] Count: 22\n",
      "Score: 0.4160195691594066\n",
      "Best Model Score: 0.41342455195568883 Generation Number :6\n",
      "-------------------------------------------------------\n",
      "Duplicated Features []\n",
      "Adding 0 features to population.\n",
      "Added Features: [(((x2 / x2) / (x2 - x3)) - min(x10,x0))]\n",
      "Top performing features:\n",
      "x10: 24.635799388908385\n",
      "(min(x7,x9) * (x8 - x1)): 23.815114155258446\n",
      "(x10 - x6): 20.147358083214886\n",
      "Generation: 11\n",
      "Scoring model with 22 features.\n",
      "Current Features: [x10] + [(min(x7,x9) * (x8 - x1))] + [(x10 - x6)] + [min(x7,x9)] + [(x2 / x2)] + [(x0 * min(x7,x9))] + [x3] + [((x2 / x2) / (x9 - x5))] + [min(x10,x0)] + [((x2 / x2) / (x2 - x3))] + [(x0 / x10)] + [min(x5,x0)] + [x0] + [x5] + [x1] + [x2] + [x4] + [x6] + [x7] + [x8] + [x9] + [((x0 / (x2 - x3)) * (x2 / x2))] Count: 22\n",
      "Score: 0.4160193282377052\n",
      "Best Model Score: 0.41342455195568883 Generation Number :6\n",
      "-------------------------------------------------------\n",
      "Duplicated Features []\n",
      "Adding 3 features to population.\n",
      "Added Features: [(min(x7,x9) * x10)] + [(min(x10,x0) / x4)] + [(x10 / ((x2 / x2) / (x2 - x3)))]\n",
      "Top performing features:\n",
      "(min(x7,x9) * x10): 25.00569820222428\n",
      "x10: 24.72625506819248\n",
      "(min(x10,x0) / x4): 20.71411591192071\n",
      "Generation: 12\n",
      "Scoring model with 22 features.\n",
      "Current Features: [(min(x7,x9) * x10)] + [x10] + [(min(x10,x0) / x4)] + [(x10 - x6)] + [(x2 / x2)] + [((x2 / x2) / (x9 - x5))] + [(x0 / x10)] + [((x2 / x2) / (x2 - x3))] + [min(x5,x0)] + [x0] + [x3] + [x5] + [x1] + [x2] + [x4] + [x6] + [x7] + [x8] + [x9] + [(min(x7,x9) * (x8 - x1))] + [min(x7,x9)] + [(x0 * min(x7,x9))] Count: 22\n",
      "Score: 0.40978369775231144\n",
      "Best Model Score: 0.41342455195568883 Generation Number :6\n",
      "New Best Model Score: 0.40978369775231144\n",
      "-------------------------------------------------------\n",
      "Duplicated Features []\n",
      "Adding 3 features to population.\n",
      "Added Features: [(((x2 / x2) / (x9 - x5)) * (x10 - x6))] + [((x2 / x2) * (min(x7,x9) * x10))] + [max((x0 / x10),(x2 / x2))] + [max((x10 - x6),((x2 / x2) / (x2 - x3)))] + [(x10 - (min(x7,x9) * x10))]\n",
      "Top performing features:\n",
      "(min(x7,x9) * x10): 25.074287053510723\n",
      "x10: 24.791463302316224\n",
      "(min(x10,x0) / x4): 20.753921769860867\n",
      "Generation: 13\n",
      "Scoring model with 22 features.\n",
      "Current Features: [(min(x7,x9) * x10)] + [x10] + [(min(x10,x0) / x4)] + [(x10 - x6)] + [max((x0 / x10),(x2 / x2))] + [x3] + [((x2 / x2) * (min(x7,x9) * x10))] + [((x2 / x2) / (x9 - x5))] + [((x2 / x2) / (x2 - x3))] + [(x2 / x2)] + [min(x5,x0)] + [(x0 / x10)] + [x0] + [x5] + [x1] + [x2] + [x4] + [x6] + [x7] + [x8] + [x9] + [(min(x7,x9) * (x8 - x1))] Count: 22\n",
      "Score: 0.40975858345629823\n",
      "Best Model Score: 0.40978369775231144 Generation Number :12\n",
      "New Best Model Score: 0.40975858345629823\n",
      "-------------------------------------------------------\n",
      "Duplicated Features []\n",
      "Adding 4 features to population.\n",
      "Added Features: [(((x2 / x2) / (x9 - x5)) - x9)] + [(x0 * ((x2 / x2) / (x2 - x3)))] + [((min(x7,x9) * x10) - x10)] + [(x7 - (min(x7,x9) * x10))]\n",
      "Top performing features:\n",
      "(min(x7,x9) * x10): 25.14982855934404\n",
      "x10: 24.863333275142004\n",
      "(min(x10,x0) / x4): 20.794935639922436\n",
      "Generation: 14\n",
      "Scoring model with 22 features.\n",
      "Current Features: [(min(x7,x9) * x10)] + [x10] + [(min(x10,x0) / x4)] + [(x10 - x6)] + [max((x0 / x10),(x2 / x2))] + [x3] + [(((x2 / x2) / (x9 - x5)) - x9)] + [((x2 / x2) * (min(x7,x9) * x10))] + [((x2 / x2) / (x2 - x3))] + [(x2 / x2)] + [x0] + [x5] + [x1] + [x2] + [x4] + [x6] + [x7] + [x8] + [x9] + [((x2 / x2) / (x9 - x5))] + [min(x5,x0)] + [(x0 / x10)] Count: 22\n",
      "Score: 0.4110429259699476\n",
      "Best Model Score: 0.40975858345629823 Generation Number :13\n",
      "-------------------------------------------------------\n",
      "Duplicated Features []\n",
      "Adding 1 features to population.\n",
      "Added Features: [(min(x5,x0) - x10)] + [(x3 * ((x2 / x2) * (min(x7,x9) * x10)))]\n",
      "Top performing features:\n",
      "(min(x7,x9) * x10): 25.114738355259863\n",
      "x10: 24.832482920410985\n",
      "(min(x10,x0) / x4): 20.79205158430736\n",
      "Generation: 15\n",
      "Scoring model with 22 features.\n",
      "Current Features: [(min(x7,x9) * x10)] + [x10] + [(min(x10,x0) / x4)] + [(x10 - x6)] + [max((x0 / x10),(x2 / x2))] + [x3] + [((x2 / x2) * (min(x7,x9) * x10))] + [(((x2 / x2) / (x9 - x5)) - x9)] + [((x2 / x2) / (x2 - x3))] + [(x2 / x2)] + [min(x5,x0)] + [(x0 / x10)] + [x0] + [x5] + [x1] + [x2] + [x4] + [x6] + [x7] + [x8] + [x9] + [((x2 / x2) / (x9 - x5))] Count: 22\n",
      "Score: 0.4110420854858059\n",
      "Best Model Score: 0.40975858345629823 Generation Number :13\n",
      "-------------------------------------------------------\n",
      "Duplicated Features []\n",
      "Adding 0 features to population.\n",
      "Added Features: [(((x2 / x2) * (min(x7,x9) * x10)) * (x0 / x10))] + [((((x2 / x2) / (x9 - x5)) - x9) - x10)]\n",
      "Top performing features:\n",
      "(min(x7,x9) * x10): 25.126132465706966\n",
      "x10: 24.843791923269585\n",
      "(min(x10,x0) / x4): 20.799837464668848\n",
      "Generation: 16\n",
      "Scoring model with 22 features.\n",
      "Current Features: [(min(x7,x9) * x10)] + [x10] + [(min(x10,x0) / x4)] + [(x10 - x6)] + [max((x0 / x10),(x2 / x2))] + [x3] + [((x2 / x2) * (min(x7,x9) * x10))] + [(((x2 / x2) / (x9 - x5)) - x9)] + [((x2 / x2) / (x2 - x3))] + [(x2 / x2)] + [min(x5,x0)] + [(x0 / x10)] + [x0] + [x5] + [x1] + [x2] + [x4] + [x6] + [x7] + [x8] + [x9] + [((x2 / x2) / (x9 - x5))] Count: 22\n",
      "Score: 0.4110420854858059\n",
      "Best Model Score: 0.40975858345629823 Generation Number :13\n",
      "-------------------------------------------------------\n",
      "Duplicated Features []\n",
      "Adding 2 features to population.\n",
      "Added Features: [(x0 - x6)] + [(x9 * min(x5,x0))]\n",
      "Top performing features:\n",
      "(min(x7,x9) * x10): 25.27691367255087\n",
      "x10: 24.994055564716284\n",
      "(min(x10,x0) / x4): 20.94543069261207\n",
      "Generation: 17\n",
      "Scoring model with 22 features.\n",
      "Current Features: [(min(x7,x9) * x10)] + [x10] + [(min(x10,x0) / x4)] + [(x10 - x6)] + [(x0 - x6)] + [max((x0 / x10),(x2 / x2))] + [x3] + [((x2 / x2) * (min(x7,x9) * x10))] + [min(x5,x0)] + [((x2 / x2) / (x2 - x3))] + [(((x2 / x2) / (x9 - x5)) - x9)] + [((x2 / x2) / (x9 - x5))] + [(x0 / x10)] + [x9] + [x0] + [x5] + [x1] + [x2] + [x4] + [x6] + [x7] + [x8] Count: 22\n",
      "Score: 0.4097876239144513\n",
      "Best Model Score: 0.40975858345629823 Generation Number :13\n",
      "-------------------------------------------------------\n",
      "Duplicated Features []\n",
      "Adding 1 features to population.\n",
      "Added Features: [(x0 / x2)] + [((x0 - x6) * (((x2 / x2) / (x9 - x5)) - x9))]\n",
      "Top performing features:\n",
      "(min(x7,x9) * x10): 25.11470570912158\n",
      "x10: 24.83184761517528\n",
      "(min(x10,x0) / x4): 20.783215244969533\n",
      "Generation: 18\n",
      "Scoring model with 22 features.\n",
      "Current Features: [(min(x7,x9) * x10)] + [x10] + [(min(x10,x0) / x4)] + [(x10 - x6)] + [(x0 - x6)] + [max((x0 / x10),(x2 / x2))] + [x3] + [((x2 / x2) * (min(x7,x9) * x10))] + [(((x2 / x2) / (x9 - x5)) - x9)] + [(x0 / x2)] + [((x2 / x2) / (x2 - x3))] + [min(x5,x0)] + [(x0 / x10)] + [x9] + [x0] + [x5] + [x1] + [x2] + [x4] + [x6] + [x7] + [x8] Count: 22\n",
      "Score: 0.40974849861211415\n",
      "Best Model Score: 0.40975858345629823 Generation Number :13\n",
      "New Best Model Score: 0.40974849861211415\n",
      "-------------------------------------------------------\n",
      "Duplicated Features []\n",
      "Adding 1 features to population.\n",
      "Added Features: [(((x2 / x2) / (x2 - x3)) * (min(x10,x0) / x4))] + [((min(x7,x9) * x10) / (x0 / x10))]\n",
      "Top performing features:\n",
      "(min(x7,x9) * x10): 25.11926129945594\n",
      "x10: 24.833787197748805\n",
      "(min(x10,x0) / x4): 20.771853417185028\n",
      "Generation: 19\n",
      "Scoring model with 22 features.\n",
      "Current Features: [(min(x7,x9) * x10)] + [x10] + [(min(x10,x0) / x4)] + [(x10 - x6)] + [(x0 - x6)] + [((min(x7,x9) * x10) / (x0 / x10))] + [max((x0 / x10),(x2 / x2))] + [x3] + [((x2 / x2) * (min(x7,x9) * x10))] + [(((x2 / x2) / (x9 - x5)) - x9)] + [(x0 / x2)] + [((x2 / x2) / (x2 - x3))] + [min(x5,x0)] + [x9] + [x0] + [x5] + [x1] + [x2] + [x4] + [x6] + [x7] + [x8] Count: 22\n",
      "Score: 0.409403044512254\n",
      "Best Model Score: 0.40974849861211415 Generation Number :18\n",
      "New Best Model Score: 0.409403044512254\n",
      "-------------------------------------------------------\n",
      "Duplicated Features []\n",
      "Adding 3 features to population.\n",
      "Added Features: [(x9 + ((x2 / x2) / (x2 - x3)))] + [((x0 - x6) / x6)] + [((x0 / x2) * (x0 - x6))]\n",
      "Top performing features:\n",
      "(min(x7,x9) * x10): 25.13514880594056\n",
      "x10: 24.849673627447643\n",
      "(min(x10,x0) / x4): 20.788043669381725\n",
      "Generation: 20\n",
      "Scoring model with 22 features.\n",
      "Current Features: [(min(x7,x9) * x10)] + [x10] + [(min(x10,x0) / x4)] + [(x10 - x6)] + [(x0 - x6)] + [((min(x7,x9) * x10) / (x0 / x10))] + [max((x0 / x10),(x2 / x2))] + [x3] + [((x2 / x2) * (min(x7,x9) * x10))] + [(((x2 / x2) / (x9 - x5)) - x9)] + [((x2 / x2) / (x2 - x3))] + [min(x5,x0)] + [x9] + [x0] + [x5] + [x1] + [x2] + [x4] + [x6] + [x7] + [x8] + [(x0 / x2)] Count: 22\n",
      "Score: 0.40940126821473544\n",
      "Best Model Score: 0.409403044512254 Generation Number :19\n",
      "New Best Model Score: 0.40940126821473544\n",
      "-------------------------------------------------------\n",
      "Duplicated Features []\n",
      "Adding 6 features to population.\n",
      "Added Features: [((min(x10,x0) / x4) / x0)] + [(x3 * (x10 - x6))] + [(x3 * (x10 - x6))] + [max(x1,(x0 - x6))] + [((min(x7,x9) * x10) / x10)] + [min(x3,(min(x7,x9) * x10))] + [(((min(x7,x9) * x10) / (x0 / x10)) - (min(x7,x9) * x10))]\n",
      "Top performing features:\n",
      "(min(x7,x9) * x10): 25.124025225705587\n",
      "x10: 24.838685165692045\n",
      "(min(x10,x0) / x4): 20.779668582779657\n",
      "Generation: 21\n",
      "Scoring model with 22 features.\n",
      "Current Features: [(min(x7,x9) * x10)] + [x10] + [(min(x10,x0) / x4)] + [(x10 - x6)] + [(x0 - x6)] + [((min(x7,x9) * x10) / (x0 / x10))] + [max((x0 / x10),(x2 / x2))] + [((x2 / x2) * (min(x7,x9) * x10))] + [(((x2 / x2) / (x9 - x5)) - x9)] + [(x0 / x2)] + [((x2 / x2) / (x2 - x3))] + [min(x5,x0)] + [x3] + [x9] + [x0] + [x5] + [x1] + [x2] + [x4] + [x6] + [x7] + [x8] Count: 22\n",
      "Score: 0.4094024315831022\n",
      "Best Model Score: 0.40940126821473544 Generation Number :20\n",
      "-------------------------------------------------------\n",
      "Duplicated Features []\n",
      "Adding 3 features to population.\n",
      "Added Features: [min(((min(x7,x9) * x10) / (x0 / x10)),min(x5,x0))] + [(x2 * x9)] + [(min(x5,x0) * x4)] + [(x4 - (x10 - x6))]\n",
      "Top performing features:\n",
      "(min(x7,x9) * x10): 25.248656589052462\n",
      "x10: 24.962869683848893\n",
      "(min(x10,x0) / x4): 20.897588367771693\n",
      "Generation: 22\n",
      "Scoring model with 22 features.\n",
      "Current Features: [(min(x7,x9) * x10)] + [x10] + [(min(x10,x0) / x4)] + [(x10 - x6)] + [(x0 - x6)] + [max((x0 / x10),(x2 / x2))] + [((min(x7,x9) * x10) / (x0 / x10))] + [x3] + [(((x2 / x2) / (x9 - x5)) - x9)] + [((x2 / x2) * (min(x7,x9) * x10))] + [min(x5,x0)] + [((x2 / x2) / (x2 - x3))] + [(x0 / x2)] + [x4] + [x2] + [x9] + [x0] + [x5] + [x1] + [x6] + [x7] + [x8] Count: 22\n",
      "Score: 0.40940138968972695\n",
      "Best Model Score: 0.40940126821473544 Generation Number :20\n",
      "-------------------------------------------------------\n",
      "Duplicated Features []\n",
      "Adding 0 features to population.\n",
      "Added Features: [((min(x10,x0) / x4) / max((x0 / x10),(x2 / x2)))] + [(x4 / (((x2 / x2) / (x9 - x5)) - x9))] + [(max((x0 / x10),(x2 / x2)) - (x10 - x6))]\n",
      "Top performing features:\n",
      "(min(x7,x9) * x10): 25.13928345725438\n",
      "x10: 24.853818345386046\n",
      "(min(x10,x0) / x4): 20.791886673172556\n",
      "Generation: 23\n",
      "Scoring model with 22 features.\n",
      "Current Features: [(min(x7,x9) * x10)] + [x10] + [(min(x10,x0) / x4)] + [(x10 - x6)] + [(x0 - x6)] + [((min(x7,x9) * x10) / (x0 / x10))] + [max((x0 / x10),(x2 / x2))] + [x3] + [((x2 / x2) * (min(x7,x9) * x10))] + [(((x2 / x2) / (x9 - x5)) - x9)] + [(x0 / x2)] + [((x2 / x2) / (x2 - x3))] + [min(x5,x0)] + [x4] + [x2] + [x9] + [x0] + [x5] + [x1] + [x6] + [x7] + [x8] Count: 22\n",
      "Score: 0.4094015013931278\n",
      "Best Model Score: 0.40940126821473544 Generation Number :20\n",
      "-------------------------------------------------------\n",
      "Duplicated Features []\n",
      "Adding 2 features to population.\n",
      "Added Features: [(max((x0 / x10),(x2 / x2)) / (((x2 / x2) / (x9 - x5)) - x9))] + [(x9 * ((x2 / x2) * (min(x7,x9) * x10)))] + [((x0 / x2) / (x0 - x6))] + [(x1 - (min(x7,x9) * x10))]\n",
      "Top performing features:\n",
      "x10: 24.759414349187217\n",
      "(min(x7,x9) * x10): 24.462716300801667\n",
      "(min(x10,x0) / x4): 20.977153146572135\n",
      "Generation: 24\n",
      "Scoring model with 22 features.\n",
      "Current Features: [x10] + [(min(x7,x9) * x10)] + [(min(x10,x0) / x4)] + [(x10 - x6)] + [(x0 - x6)] + [((x0 / x2) / (x0 - x6))] + [max((x0 / x10),(x2 / x2))] + [(x0 / x2)] + [((min(x7,x9) * x10) / (x0 / x10))] + [x3] + [(((x2 / x2) / (x9 - x5)) - x9)] + [((x2 / x2) * (min(x7,x9) * x10))] + [((x2 / x2) / (x2 - x3))] + [x4] + [x2] + [x9] + [x0] + [x5] + [x1] + [x6] + [x7] + [x8] Count: 22\n",
      "Score: 0.4084973742469162\n",
      "Best Model Score: 0.40940126821473544 Generation Number :20\n",
      "New Best Model Score: 0.4084973742469162\n",
      "-------------------------------------------------------\n",
      "Duplicated Features []\n",
      "Adding 2 features to population.\n",
      "Added Features: [min(((x0 / x2) / (x0 - x6)),x7)] + [(((x2 / x2) / (x2 - x3)) / ((x0 / x2) / (x0 - x6)))] + [(max((x0 / x10),(x2 / x2)) * x8)]\n",
      "Top performing features:\n",
      "(min(x7,x9) * x10): 25.559462225858205\n",
      "x10: 25.274024198253162\n",
      "(min(x10,x0) / x4): 21.198475246972198\n",
      "Generation: 25\n",
      "Scoring model with 22 features.\n",
      "Current Features: [(min(x7,x9) * x10)] + [x10] + [(min(x10,x0) / x4)] + [(x10 - x6)] + [(x0 - x6)] + [min(((x0 / x2) / (x0 - x6)),x7)] + [((min(x7,x9) * x10) / (x0 / x10))] + [max((x0 / x10),(x2 / x2))] + [(x0 / x2)] + [x3] + [((x2 / x2) * (min(x7,x9) * x10))] + [(((x2 / x2) / (x9 - x5)) - x9)] + [((x2 / x2) / (x2 - x3))] + [x4] + [x2] + [x9] + [x0] + [x5] + [x1] + [x6] + [x7] + [x8] Count: 22\n",
      "Score: 0.40161411232181504\n",
      "Best Model Score: 0.4084973742469162 Generation Number :24\n",
      "New Best Model Score: 0.40161411232181504\n",
      "-------------------------------------------------------\n",
      "Duplicated Features []\n",
      "Adding 3 features to population.\n",
      "Added Features: [((min(x10,x0) / x4) / (x0 - x6))] + [(x3 - (x0 / x2))] + [min(x10,(x0 / x2))] + [max(x10,((min(x7,x9) * x10) / (x0 / x10)))]\n",
      "Top performing features:\n",
      "(min(x7,x9) * x10): 25.735334133323697\n",
      "x10: 25.44808421927108\n",
      "min(x10,(x0 / x2)): 22.66670905630376\n",
      "Generation: 26\n",
      "Scoring model with 22 features.\n",
      "Current Features: [(min(x7,x9) * x10)] + [x10] + [min(x10,(x0 / x2))] + [(min(x10,x0) / x4)] + [(x10 - x6)] + [(x0 - x6)] + [min(((x0 / x2) / (x0 - x6)),x7)] + [((min(x7,x9) * x10) / (x0 / x10))] + [(x0 / x2)] + [x3] + [max((x0 / x10),(x2 / x2))] + [(((x2 / x2) / (x9 - x5)) - x9)] + [((x2 / x2) / (x2 - x3))] + [x4] + [x2] + [x9] + [x0] + [x5] + [x1] + [x6] + [x7] + [x8] Count: 22\n",
      "Score: 0.4033500681245783\n",
      "Best Model Score: 0.40161411232181504 Generation Number :25\n",
      "-------------------------------------------------------\n",
      "new_feature array is nearly constant for parity 02\n",
      "Duplicated Features []\n",
      "Adding 1 features to population.\n",
      "Added Features: [((x0 - x6) / x2)]\n",
      "Top performing features:\n",
      "(min(x7,x9) * x10): 25.64152834162131\n",
      "x10: 25.35502299941985\n",
      "min(x10,(x0 / x2)): 22.57595452179215\n",
      "Generation: 27\n",
      "Scoring model with 22 features.\n",
      "Current Features: [(min(x7,x9) * x10)] + [x10] + [min(x10,(x0 / x2))] + [(min(x10,x0) / x4)] + [(x10 - x6)] + [(x0 - x6)] + [min(((x0 / x2) / (x0 - x6)),x7)] + [((min(x7,x9) * x10) / (x0 / x10))] + [(x0 / x2)] + [x3] + [max((x0 / x10),(x2 / x2))] + [(((x2 / x2) / (x9 - x5)) - x9)] + [((x2 / x2) / (x2 - x3))] + [x4] + [x2] + [x9] + [x0] + [x5] + [x1] + [x6] + [x7] + [x8] Count: 22\n",
      "Score: 0.4033500681245783\n",
      "Best Model Score: 0.40161411232181504 Generation Number :25\n",
      "-------------------------------------------------------\n",
      "Duplicated Features []\n",
      "Adding 2 features to population.\n",
      "Added Features: [((((x2 / x2) / (x9 - x5)) - x9) * x1)] + [(x3 / (min(x10,x0) / x4))] + [(x6 * x3)] + [max(min(x10,(x0 / x2)),((min(x7,x9) * x10) / (x0 / x10)))]\n",
      "Top performing features:\n",
      "(min(x7,x9) * x10): 25.656274839180366\n",
      "x10: 25.369758943403404\n",
      "min(x10,(x0 / x2)): 22.590673239024817\n",
      "Generation: 28\n",
      "Scoring model with 22 features.\n",
      "Current Features: [(min(x7,x9) * x10)] + [x10] + [min(x10,(x0 / x2))] + [(min(x10,x0) / x4)] + [(x10 - x6)] + [(x0 - x6)] + [min(((x0 / x2) / (x0 - x6)),x7)] + [((min(x7,x9) * x10) / (x0 / x10))] + [(x0 / x2)] + [max((x0 / x10),(x2 / x2))] + [(x6 * x3)] + [(((x2 / x2) / (x9 - x5)) - x9)] + [x0] + [x3] + [x4] + [x2] + [x9] + [x5] + [x1] + [x6] + [x7] + [x8] Count: 22\n",
      "Score: 0.40295752059085965\n",
      "Best Model Score: 0.40161411232181504 Generation Number :25\n",
      "-------------------------------------------------------\n",
      "Duplicated Features []\n",
      "Adding 1 features to population.\n",
      "Added Features: [(min(((x0 / x2) / (x0 - x6)),x7) + (x10 - x6))] + [min(x6,x10)]\n",
      "Top performing features:\n",
      "(min(x7,x9) * x10): 25.679193828544122\n",
      "x10: 25.391552565190544\n",
      "min(x10,(x0 / x2)): 22.612154274970578\n",
      "Generation: 29\n",
      "Scoring model with 22 features.\n",
      "Current Features: [(min(x7,x9) * x10)] + [x10] + [min(x10,(x0 / x2))] + [(min(x10,x0) / x4)] + [(x10 - x6)] + [(x0 - x6)] + [min(((x0 / x2) / (x0 - x6)),x7)] + [((min(x7,x9) * x10) / (x0 / x10))] + [min(x6,x10)] + [(x0 / x2)] + [max((x0 / x10),(x2 / x2))] + [(x6 * x3)] + [x0] + [x3] + [x4] + [x2] + [x9] + [x5] + [x1] + [x6] + [x7] + [x8] Count: 22\n",
      "Score: 0.4031209366577416\n",
      "Best Model Score: 0.40161411232181504 Generation Number :25\n",
      "-------------------------------------------------------\n",
      "Duplicated Features []\n",
      "Adding 1 features to population.\n",
      "Added Features: [((min(x7,x9) * x10) / x4)] + [(((min(x7,x9) * x10) / (x0 / x10)) / (x0 / x2))]\n",
      "Top performing features:\n",
      "(min(x7,x9) * x10): 25.718518872657178\n",
      "x10: 25.42659175248758\n",
      "min(x10,(x0 / x2)): 22.620732624992648\n",
      "Generation: 30\n",
      "Scoring model with 22 features.\n",
      "Current Features: [(min(x7,x9) * x10)] + [x10] + [min(x10,(x0 / x2))] + [(x10 - x6)] + [(x0 - x6)] + [((min(x7,x9) * x10) / x4)] + [min(((x0 / x2) / (x0 - x6)),x7)] + [(min(x10,x0) / x4)] + [(x0 / x2)] + [min(x6,x10)] + [(x6 * x3)] + [max((x0 / x10),(x2 / x2))] + [x0] + [x3] + [x4] + [x2] + [x9] + [x5] + [x1] + [x6] + [x7] + [x8] Count: 22\n",
      "Score: 0.40430499077663223\n",
      "Best Model Score: 0.40161411232181504 Generation Number :25\n",
      "-------------------------------------------------------\n",
      "new_feature array is nearly constant for parity 02\n",
      "Duplicated Features []\n",
      "Adding 1 features to population.\n",
      "Added Features: [((min(x10,x0) / x4) / (min(x7,x9) * x10))] + [((min(x7,x9) * x10) * x5)]\n",
      "Top performing features:\n",
      "(min(x7,x9) * x10): 25.90597235973309\n",
      "x10: 25.613862638907285\n",
      "min(x10,(x0 / x2)): 22.808107185383964\n",
      "Generation: 31\n",
      "Scoring model with 22 features.\n",
      "Current Features: [(min(x7,x9) * x10)] + [x10] + [min(x10,(x0 / x2))] + [((min(x7,x9) * x10) / x4)] + [(x10 - x6)] + [(x0 - x6)] + [min(((x0 / x2) / (x0 - x6)),x7)] + [(min(x10,x0) / x4)] + [min(x6,x10)] + [(x0 / x2)] + [(x6 * x3)] + [max((x0 / x10),(x2 / x2))] + [x5] + [x0] + [x3] + [x4] + [x2] + [x9] + [x1] + [x6] + [x7] + [x8] Count: 22\n",
      "Score: 0.40430276670786286\n",
      "Best Model Score: 0.40161411232181504 Generation Number :25\n",
      "-------------------------------------------------------\n",
      "Duplicated Features []\n",
      "Adding 2 features to population.\n",
      "Added Features: [((x10 - x6) / x2)] + [((x0 - x6) - (min(x10,x0) / x4))]\n",
      "Top performing features:\n",
      "(min(x7,x9) * x10): 25.650951002479154\n",
      "x10: 25.358844748512333\n",
      "min(x10,(x0 / x2)): 22.553099858121016\n",
      "Generation: 32\n",
      "Scoring model with 22 features.\n",
      "Current Features: [(min(x7,x9) * x10)] + [x10] + [min(x10,(x0 / x2))] + [((min(x7,x9) * x10) / x4)] + [(x10 - x6)] + [(x0 - x6)] + [min(((x0 / x2) / (x0 - x6)),x7)] + [(min(x10,x0) / x4)] + [min(x6,x10)] + [(x0 / x2)] + [(x6 * x3)] + [max((x0 / x10),(x2 / x2))] + [x5] + [x0] + [x3] + [x4] + [x2] + [x9] + [x1] + [x6] + [x7] + [x8] Count: 22\n",
      "Score: 0.40430276670786286\n",
      "Best Model Score: 0.40161411232181504 Generation Number :25\n",
      "-------------------------------------------------------\n",
      "Duplicated Features []\n",
      "Adding 3 features to population.\n",
      "Added Features: [((min(x10,x0) / x4) * x9)] + [(x2 - (x10 - x6))] + [((x0 - x6) * (x10 - x6))]\n",
      "Top performing features:\n",
      "(min(x7,x9) * x10): 25.734239602180857\n",
      "x10: 25.4390339515501\n",
      "((min(x7,x9) * x10) / x4): 23.084486472048347\n",
      "Generation: 33\n",
      "Scoring model with 22 features.\n",
      "Current Features: [(min(x7,x9) * x10)] + [x10] + [((min(x7,x9) * x10) / x4)] + [min(x10,(x0 / x2))] + [(x10 - x6)] + [(x0 - x6)] + [min(((x0 / x2) / (x0 - x6)),x7)] + [(min(x10,x0) / x4)] + [(x0 / x2)] + [min(x6,x10)] + [(x6 * x3)] + [max((x0 / x10),(x2 / x2))] + [x5] + [x0] + [x3] + [x4] + [x2] + [x9] + [x1] + [x6] + [x7] + [x8] Count: 22\n",
      "Score: 0.4043026321952379\n",
      "Best Model Score: 0.40161411232181504 Generation Number :25\n",
      "-------------------------------------------------------\n",
      "Duplicated Features []\n",
      "Adding 1 features to population.\n",
      "Added Features: [((min(x7,x9) * x10) / min(x10,(x0 / x2)))] + [(min(x10,(x0 / x2)) - min(((x0 / x2) / (x0 - x6)),x7))] + [(max((x0 / x10),(x2 / x2)) * x1)]\n",
      "Top performing features:\n",
      "(min(x7,x9) * x10): 25.70452508843332\n",
      "x10: 25.409659498632692\n",
      "min(x10,(x0 / x2)): 22.592545947108\n",
      "Generation: 34\n",
      "Scoring model with 22 features.\n",
      "Current Features: [(min(x7,x9) * x10)] + [x10] + [min(x10,(x0 / x2))] + [((min(x7,x9) * x10) / x4)] + [(x10 - x6)] + [(x0 - x6)] + [min(((x0 / x2) / (x0 - x6)),x7)] + [(min(x10,x0) / x4)] + [(x0 / x2)] + [min(x6,x10)] + [(x6 * x3)] + [max((x0 / x10),(x2 / x2))] + [x5] + [x0] + [x3] + [x4] + [x2] + [x9] + [x1] + [x6] + [x7] + [x8] Count: 22\n",
      "Score: 0.40430265184157055\n",
      "Best Model Score: 0.40161411232181504 Generation Number :25\n",
      "-------------------------------------------------------\n",
      "new_feature array is nearly constant for parity 02\n",
      "Duplicated Features []\n",
      "Adding 2 features to population.\n",
      "Added Features: [((x0 - x6) - (min(x10,x0) / x4))] + [(x6 / (min(x10,x0) / x4))] + [((x10 - x6) + ((min(x7,x9) * x10) / x4))]\n",
      "Top performing features:\n",
      "(min(x7,x9) * x10): 25.784691253086123\n",
      "x10: 25.491625252841153\n",
      "((min(x7,x9) * x10) / x4): 22.791828878850847\n",
      "Generation: 35\n",
      "Scoring model with 22 features.\n",
      "Current Features: [(min(x7,x9) * x10)] + [x10] + [((min(x7,x9) * x10) / x4)] + [min(x10,(x0 / x2))] + [(x10 - x6)] + [(x0 - x6)] + [min(((x0 / x2) / (x0 - x6)),x7)] + [(x0 / x2)] + [(x6 * x3)] + [(min(x10,x0) / x4)] + [max((x0 / x10),(x2 / x2))] + [min(x6,x10)] + [x3] + [x5] + [x0] + [x4] + [x2] + [x9] + [x1] + [x6] + [x7] + [x8] Count: 22\n",
      "Score: 0.4043033285719545\n",
      "Best Model Score: 0.40161411232181504 Generation Number :25\n",
      "-------------------------------------------------------\n",
      "Duplicated Features []\n",
      "Adding 1 features to population.\n",
      "Added Features: [(x1 / (x0 - x6))] + [((min(x7,x9) * x10) / min(x10,(x0 / x2)))]\n",
      "Top performing features:\n",
      "(min(x7,x9) * x10): 25.683438101728193\n",
      "x10: 25.39133644205672\n",
      "((min(x7,x9) * x10) / x4): 22.698056100577123\n",
      "Generation: 36\n",
      "Scoring model with 22 features.\n",
      "Current Features: [(min(x7,x9) * x10)] + [x10] + [((min(x7,x9) * x10) / x4)] + [min(x10,(x0 / x2))] + [(x10 - x6)] + [(x0 - x6)] + [min(((x0 / x2) / (x0 - x6)),x7)] + [(min(x10,x0) / x4)] + [(x0 / x2)] + [min(x6,x10)] + [(x6 * x3)] + [max((x0 / x10),(x2 / x2))] + [x3] + [x5] + [x0] + [x4] + [x2] + [x9] + [x1] + [x6] + [x7] + [x8] Count: 22\n",
      "Score: 0.40430259249982353\n",
      "Best Model Score: 0.40161411232181504 Generation Number :25\n",
      "-------------------------------------------------------\n",
      "Duplicated Features []\n",
      "Adding 2 features to population.\n",
      "Added Features: [max(min(x10,(x0 / x2)),(min(x7,x9) * x10))] + [(min(x10,(x0 / x2)) / x8)] + [(min(x10,(x0 / x2)) * ((min(x7,x9) * x10) / x4))] + [(min(x10,(x0 / x2)) - x3)]\n",
      "Top performing features:\n",
      "(min(x7,x9) * x10): 25.751883224951772\n",
      "x10: 25.4574844631182\n",
      "((min(x7,x9) * x10) / x4): 22.418438592892898\n",
      "Generation: 37\n",
      "Scoring model with 22 features.\n",
      "Current Features: [(min(x7,x9) * x10)] + [x10] + [((min(x7,x9) * x10) / x4)] + [(x10 - x6)] + [(x0 - x6)] + [(min(x10,(x0 / x2)) / x8)] + [min(((x0 / x2) / (x0 - x6)),x7)] + [(x0 / x2)] + [min(x6,x10)] + [(min(x10,x0) / x4)] + [(x6 * x3)] + [max((x0 / x10),(x2 / x2))] + [x3] + [x5] + [x0] + [x4] + [x2] + [x9] + [x1] + [x6] + [x7] + [x8] Count: 22\n",
      "Score: 0.4044022427047178\n",
      "Best Model Score: 0.40161411232181504 Generation Number :25\n",
      "-------------------------------------------------------\n",
      "Duplicated Features []\n",
      "Adding 4 features to population.\n",
      "Added Features: [((x10 - x6) / (min(x10,x0) / x4))] + [((x10 - x6) / (x0 - x6))] + [(min(((x0 / x2) / (x0 - x6)),x7) * (x10 - x6))] + [(max((x0 / x10),(x2 / x2)) / x1)] + [min((x0 / x2),(x6 * x3))]\n",
      "Top performing features:\n",
      "(min(x7,x9) * x10): 25.798482894885865\n",
      "x10: 25.501315272121808\n",
      "((min(x7,x9) * x10) / x4): 25.199502349464684\n",
      "Generation: 38\n",
      "Scoring model with 22 features.\n",
      "Current Features: [(min(x7,x9) * x10)] + [x10] + [((min(x7,x9) * x10) / x4)] + [((x10 - x6) / (min(x10,x0) / x4))] + [(x10 - x6)] + [(min(x10,(x0 / x2)) / x8)] + [(x0 - x6)] + [min(((x0 / x2) / (x0 - x6)),x7)] + [min((x0 / x2),(x6 * x3))] + [(x6 * x3)] + [min(x6,x10)] + [(x0 / x2)] + [x2] + [x3] + [x5] + [x0] + [x4] + [x9] + [x1] + [x6] + [x7] + [x8] Count: 22\n",
      "Score: 0.4010193619997158\n",
      "Best Model Score: 0.40161411232181504 Generation Number :25\n",
      "New Best Model Score: 0.4010193619997158\n",
      "-------------------------------------------------------\n",
      "Duplicated Features []\n",
      "Adding 0 features to population.\n",
      "Added Features: [((x10 - x6) * ((x10 - x6) / (min(x10,x0) / x4)))]\n",
      "Top performing features:\n",
      "(min(x7,x9) * x10): 26.019324125325376\n",
      "x10: 25.723734995861573\n",
      "((min(x7,x9) * x10) / x4): 25.423247825212282\n",
      "Generation: 39\n",
      "Scoring model with 22 features.\n",
      "Current Features: [(min(x7,x9) * x10)] + [x10] + [((min(x7,x9) * x10) / x4)] + [(min(x10,(x0 / x2)) / x8)] + [((x10 - x6) / (min(x10,x0) / x4))] + [(x10 - x6)] + [(x0 - x6)] + [min(((x0 / x2) / (x0 - x6)),x7)] + [min((x0 / x2),(x6 * x3))] + [(x6 * x3)] + [(x0 / x2)] + [min(x6,x10)] + [x0] + [x2] + [x3] + [x5] + [x4] + [x9] + [x1] + [x6] + [x7] + [x8] Count: 22\n",
      "Score: 0.4010199650716309\n",
      "Best Model Score: 0.4010193619997158 Generation Number :38\n",
      "-------------------------------------------------------\n",
      "new_feature array is nearly constant for parity 02\n",
      "Duplicated Features []\n",
      "Adding 2 features to population.\n",
      "Added Features: [(x10 / (min(x10,(x0 / x2)) / x8))] + [(min(((x0 / x2) / (x0 - x6)),x7) - (x0 / x2))] + [(x9 - ((min(x7,x9) * x10) / x4))]\n",
      "Top performing features:\n",
      "(min(x7,x9) * x10): 26.023150914586203\n",
      "x10: 25.72574545011819\n",
      "((min(x7,x9) * x10) / x4): 25.423658458758954\n",
      "Generation: 40\n",
      "Scoring model with 22 features.\n",
      "Current Features: [(min(x7,x9) * x10)] + [x10] + [((min(x7,x9) * x10) / x4)] + [(min(x10,(x0 / x2)) / x8)] + [((x10 - x6) / (min(x10,x0) / x4))] + [(x10 - x6)] + [(x0 - x6)] + [min(((x0 / x2) / (x0 - x6)),x7)] + [min((x0 / x2),(x6 * x3))] + [(x6 * x3)] + [(x0 / x2)] + [min(x6,x10)] + [x0] + [x2] + [x3] + [x5] + [x4] + [x9] + [x1] + [x6] + [x7] + [x8] Count: 22\n",
      "Score: 0.4010199650716309\n",
      "Best Model Score: 0.4010193619997158 Generation Number :38\n",
      "-------------------------------------------------------\n",
      "Duplicated Features []\n",
      "Adding 1 features to population.\n",
      "Added Features: [((x6 * x3) * ((x10 - x6) / (min(x10,x0) / x4)))] + [((min(x7,x9) * x10) - x0)]\n",
      "Top performing features:\n",
      "(min(x7,x9) * x10): 25.965776651617126\n",
      "x10: 25.670185287806603\n",
      "((min(x7,x9) * x10) / x4): 25.369709538663706\n",
      "Generation: 41\n",
      "Scoring model with 22 features.\n",
      "Current Features: [(min(x7,x9) * x10)] + [x10] + [((min(x7,x9) * x10) / x4)] + [(min(x10,(x0 / x2)) / x8)] + [((x10 - x6) / (min(x10,x0) / x4))] + [(x10 - x6)] + [(x0 - x6)] + [min(((x0 / x2) / (x0 - x6)),x7)] + [min((x0 / x2),(x6 * x3))] + [(x6 * x3)] + [(x0 / x2)] + [min(x6,x10)] + [x0] + [x2] + [x3] + [x5] + [x4] + [x9] + [x1] + [x6] + [x7] + [x8] Count: 22\n",
      "Score: 0.4010199650716309\n",
      "Best Model Score: 0.4010193619997158 Generation Number :38\n",
      "-------------------------------------------------------\n",
      "Duplicated Features []\n",
      "Adding 4 features to population.\n",
      "Added Features: [((min(x7,x9) * x10) / (x6 * x3))] + [(min(x6,x10) / (x6 * x3))] + [max(min((x0 / x2),(x6 * x3)),((min(x7,x9) * x10) / x4))] + [((x10 - x6) / (x0 / x2))] + [min(x4,x2)]\n",
      "Top performing features:\n",
      "(min(x7,x9) * x10): 26.00365591279067\n",
      "x10: 25.706685294992553\n",
      "((min(x7,x9) * x10) / x4): 25.404762072760548\n",
      "Generation: 42\n",
      "Scoring model with 22 features.\n",
      "Current Features: [(min(x7,x9) * x10)] + [x10] + [((min(x7,x9) * x10) / x4)] + [(min(x10,(x0 / x2)) / x8)] + [((x10 - x6) / (min(x10,x0) / x4))] + [(x10 - x6)] + [min(x6,x10)] + [((min(x7,x9) * x10) / (x6 * x3))] + [(x0 - x6)] + [min(((x0 / x2) / (x0 - x6)),x7)] + [min((x0 / x2),(x6 * x3))] + [x3] + [(x0 / x2)] + [x0] + [x2] + [x5] + [x4] + [x9] + [x1] + [x6] + [x7] + [x8] Count: 22\n",
      "Score: 0.40139248195681704\n",
      "Best Model Score: 0.4010193619997158 Generation Number :38\n",
      "-------------------------------------------------------\n",
      "Duplicated Features []\n",
      "Adding 0 features to population.\n",
      "Added Features: [(x3 / ((x10 - x6) / (min(x10,x0) / x4)))]\n",
      "Top performing features:\n",
      "(min(x7,x9) * x10): 26.065964419728758\n",
      "x10: 25.768993603479473\n",
      "((min(x7,x9) * x10) / x4): 25.467070212395583\n",
      "Generation: 43\n",
      "Scoring model with 22 features.\n",
      "Current Features: [(min(x7,x9) * x10)] + [x10] + [((min(x7,x9) * x10) / x4)] + [(min(x10,(x0 / x2)) / x8)] + [((x10 - x6) / (min(x10,x0) / x4))] + [(x10 - x6)] + [min(x6,x10)] + [((min(x7,x9) * x10) / (x6 * x3))] + [(x0 - x6)] + [min(((x0 / x2) / (x0 - x6)),x7)] + [min((x0 / x2),(x6 * x3))] + [x3] + [(x0 / x2)] + [x0] + [x2] + [x5] + [x4] + [x9] + [x1] + [x6] + [x7] + [x8] Count: 22\n",
      "Score: 0.40139248195681704\n",
      "Best Model Score: 0.4010193619997158 Generation Number :38\n",
      "-------------------------------------------------------\n",
      "Duplicated Features []\n",
      "Adding 1 features to population.\n",
      "Added Features: [(x1 - (min(x7,x9) * x10))]\n",
      "Top performing features:\n",
      "x10: 25.468060407592937\n",
      "(min(x7,x9) * x10): 25.16076508282964\n",
      "((min(x7,x9) * x10) / x4): 24.849345402495473\n",
      "Generation: 44\n",
      "Scoring model with 22 features.\n",
      "Current Features: [x10] + [(min(x7,x9) * x10)] + [((min(x7,x9) * x10) / x4)] + [(min(x10,(x0 / x2)) / x8)] + [((x10 - x6) / (min(x10,x0) / x4))] + [(x10 - x6)] + [min(x6,x10)] + [((min(x7,x9) * x10) / (x6 * x3))] + [min(((x0 / x2) / (x0 - x6)),x7)] + [(x0 - x6)] + [min((x0 / x2),(x6 * x3))] + [x3] + [(x0 / x2)] + [x0] + [x2] + [x5] + [x4] + [x9] + [x1] + [x6] + [x7] + [x8] Count: 22\n",
      "Score: 0.40137178091997106\n",
      "Best Model Score: 0.4010193619997158 Generation Number :38\n",
      "-------------------------------------------------------\n",
      "Duplicated Features []\n",
      "Adding 1 features to population.\n",
      "Added Features: [(x10 / x4)]\n",
      "Top performing features:\n",
      "(min(x7,x9) * x10): 25.981308043616814\n",
      "x10: 25.684494552409802\n",
      "((min(x7,x9) * x10) / x4): 25.38275563915073\n",
      "Generation: 45\n",
      "Scoring model with 22 features.\n",
      "Current Features: [(min(x7,x9) * x10)] + [x10] + [((min(x7,x9) * x10) / x4)] + [(min(x10,(x0 / x2)) / x8)] + [((x10 - x6) / (min(x10,x0) / x4))] + [(x10 - x6)] + [min(x6,x10)] + [((min(x7,x9) * x10) / (x6 * x3))] + [(x0 - x6)] + [min(((x0 / x2) / (x0 - x6)),x7)] + [min((x0 / x2),(x6 * x3))] + [x3] + [(x0 / x2)] + [x0] + [x2] + [x5] + [x4] + [x9] + [x1] + [x6] + [x7] + [x8] Count: 22\n",
      "Score: 0.40139248195681704\n",
      "Best Model Score: 0.4010193619997158 Generation Number :38\n",
      "-------------------------------------------------------\n",
      "new_feature array is nearly constant for parity 02\n",
      "Duplicated Features []\n",
      "Adding 2 features to population.\n",
      "Added Features: [((x10 - x6) / min(((x0 / x2) / (x0 - x6)),x7))] + [(min(x6,x10) + x0)] + [((min(x7,x9) * x10) - min(x6,x10))]\n",
      "Top performing features:\n",
      "(min(x7,x9) * x10): 26.059334999189286\n",
      "x10: 25.76107173042697\n",
      "((min(x7,x9) * x10) / x4): 25.457978853793428\n",
      "Generation: 46\n",
      "Scoring model with 22 features.\n",
      "Current Features: [(min(x7,x9) * x10)] + [x10] + [((min(x7,x9) * x10) / x4)] + [(min(x10,(x0 / x2)) / x8)] + [((x10 - x6) / (min(x10,x0) / x4))] + [(x10 - x6)] + [min(x6,x10)] + [((min(x7,x9) * x10) / (x6 * x3))] + [(x0 - x6)] + [min(((x0 / x2) / (x0 - x6)),x7)] + [(min(x6,x10) + x0)] + [min((x0 / x2),(x6 * x3))] + [x3] + [x2] + [x5] + [x0] + [x4] + [x9] + [x1] + [x6] + [x7] + [x8] Count: 22\n",
      "Score: 0.402058573514192\n",
      "Best Model Score: 0.4010193619997158 Generation Number :38\n",
      "-------------------------------------------------------\n",
      "Duplicated Features []\n",
      "Adding 1 features to population.\n",
      "Added Features: [(((x10 - x6) / (min(x10,x0) / x4)) - (x10 - x6))] + [((x10 - x6) / ((x10 - x6) / (min(x10,x0) / x4)))] + [(x1 / (min(x7,x9) * x10))]\n",
      "Top performing features:\n",
      "x10: 25.513039941223894\n",
      "(min(x7,x9) * x10): 25.513039941223894\n",
      "((min(x7,x9) * x10) / x4): 24.573665039815282\n",
      "Generation: 47\n",
      "Scoring model with 22 features.\n",
      "Current Features: [x10] + [(min(x7,x9) * x10)] + [((min(x7,x9) * x10) / x4)] + [(min(x10,(x0 / x2)) / x8)] + [((x10 - x6) / (min(x10,x0) / x4))] + [(x10 - x6)] + [min(x6,x10)] + [((min(x7,x9) * x10) / (x6 * x3))] + [min(((x0 / x2) / (x0 - x6)),x7)] + [(x0 - x6)] + [(min(x6,x10) + x0)] + [min((x0 / x2),(x6 * x3))] + [x3] + [x2] + [x5] + [x0] + [x4] + [x9] + [x1] + [x6] + [x7] + [x8] Count: 22\n",
      "Score: 0.40203798682112984\n",
      "Best Model Score: 0.4010193619997158 Generation Number :38\n",
      "-------------------------------------------------------\n",
      "Duplicated Features []\n",
      "Adding 2 features to population.\n",
      "Added Features: [(x10 - ((x10 - x6) / (min(x10,x0) / x4)))] + [(((x10 - x6) / (min(x10,x0) / x4)) + (min(x10,(x0 / x2)) / x8))] + [((min(x7,x9) * x10) / x10)] + [((min(x6,x10) + x0) + x3)]\n",
      "Top performing features:\n",
      "(min(x7,x9) * x10): 26.104695410593155\n",
      "x10: 25.806657256762414\n",
      "((min(x7,x9) * x10) / x4): 25.503848748916084\n",
      "Generation: 48\n",
      "Scoring model with 22 features.\n",
      "Current Features: [(min(x7,x9) * x10)] + [x10] + [((min(x7,x9) * x10) / x4)] + [(min(x10,(x0 / x2)) / x8)] + [((x10 - x6) / (min(x10,x0) / x4))] + [(x10 - x6)] + [min(x6,x10)] + [((min(x7,x9) * x10) / (x6 * x3))] + [min(((x0 / x2) / (x0 - x6)),x7)] + [(x0 - x6)] + [min((x0 / x2),(x6 * x3))] + [((min(x6,x10) + x0) + x3)] + [x3] + [x2] + [x5] + [x0] + [x4] + [x9] + [x1] + [x6] + [x7] + [x8] Count: 22\n",
      "Score: 0.4023675474760713\n",
      "Best Model Score: 0.4010193619997158 Generation Number :38\n",
      "-------------------------------------------------------\n",
      "Duplicated Features []\n",
      "Adding 3 features to population.\n",
      "Added Features: [(((min(x7,x9) * x10) / x4) / x2)] + [(x10 / x2)] + [(((min(x6,x10) + x0) + x3) / min(x6,x10))] + [((min(x10,(x0 / x2)) / x8) - min((x0 / x2),(x6 * x3)))] + [((min(x7,x9) * x10) * x2)]\n",
      "Top performing features:\n",
      "(min(x7,x9) * x10): 26.1117091727413\n",
      "x10: 25.814165871054847\n",
      "((min(x7,x9) * x10) / x4): 25.511731578597214\n",
      "Generation: 49\n",
      "Scoring model with 22 features.\n",
      "Current Features: [(min(x7,x9) * x10)] + [x10] + [((min(x7,x9) * x10) / x4)] + [(min(x10,(x0 / x2)) / x8)] + [((x10 - x6) / (min(x10,x0) / x4))] + [(x10 - x6)] + [min(x6,x10)] + [((min(x7,x9) * x10) / (x6 * x3))] + [min(((x0 / x2) / (x0 - x6)),x7)] + [(x0 - x6)] + [min((x0 / x2),(x6 * x3))] + [((min(x6,x10) + x0) + x3)] + [x3] + [x2] + [x5] + [x0] + [x4] + [x9] + [x1] + [x6] + [x7] + [x8] Count: 22\n",
      "Score: 0.4023675474760713\n",
      "Best Model Score: 0.4010193619997158 Generation Number :38\n",
      "-------------------------------------------------------\n",
      "Duplicated Features []\n",
      "Adding 3 features to population.\n",
      "Added Features: [(x5 / x3)] + [(((min(x7,x9) * x10) / (x6 * x3)) - (min(x7,x9) * x10))] + [(x2 / (x0 - x6))] + [(x10 * (min(x10,(x0 / x2)) / x8))]\n",
      "Top performing features:\n",
      "(min(x7,x9) * x10): 26.069153967359743\n",
      "x10: 25.770476269471093\n",
      "((min(x7,x9) * x10) / x4): 25.158952748279486\n",
      "Generation: 50\n",
      "Scoring model with 22 features.\n",
      "Current Features: [(min(x7,x9) * x10)] + [x10] + [((min(x7,x9) * x10) / x4)] + [((x10 - x6) / (min(x10,x0) / x4))] + [(x10 - x6)] + [((min(x7,x9) * x10) / (x6 * x3))] + [(x10 * (min(x10,(x0 / x2)) / x8))] + [min(x6,x10)] + [min(((x0 / x2) / (x0 - x6)),x7)] + [(x0 - x6)] + [(min(x10,(x0 / x2)) / x8)] + [min((x0 / x2),(x6 * x3))] + [x3] + [x5] + [x2] + [x0] + [x4] + [x9] + [x1] + [x6] + [x7] + [x8] Count: 22\n",
      "Score: 0.4015424878686452\n",
      "Best Model Score: 0.4010193619997158 Generation Number :38\n",
      "-------------------------------------------------------\n",
      "Duplicated Features []\n",
      "Adding 2 features to population.\n",
      "Added Features: [(x0 * (x10 * (min(x10,(x0 / x2)) / x8)))] + [(x3 + x10)] + [(x10 / min(x6,x10))]\n",
      "Top performing features:\n",
      "(min(x7,x9) * x10): 26.053017195364454\n",
      "x10: 25.75478132019598\n",
      "((min(x7,x9) * x10) / x4): 25.144454579025016\n",
      "Generation: 51\n",
      "Scoring model with 22 features.\n",
      "Current Features: [(min(x7,x9) * x10)] + [x10] + [((min(x7,x9) * x10) / x4)] + [((x10 - x6) / (min(x10,x0) / x4))] + [(x10 - x6)] + [((min(x7,x9) * x10) / (x6 * x3))] + [(x10 * (min(x10,(x0 / x2)) / x8))] + [(x0 - x6)] + [min(((x0 / x2) / (x0 - x6)),x7)] + [(min(x10,(x0 / x2)) / x8)] + [min((x0 / x2),(x6 * x3))] + [(x3 + x10)] + [x0] + [x2] + [x5] + [x3] + [x4] + [x9] + [x1] + [x6] + [x7] + [x8] Count: 22\n",
      "Score: 0.40237621266263107\n",
      "Best Model Score: 0.4010193619997158 Generation Number :38\n",
      "-------------------------------------------------------\n",
      "Duplicated Features []\n",
      "Adding 0 features to population.\n",
      "Added Features: [(x2 + ((x10 - x6) / (min(x10,x0) / x4)))] + [(((x10 - x6) / (min(x10,x0) / x4)) * min((x0 / x2),(x6 * x3)))]\n",
      "Top performing features:\n",
      "(min(x7,x9) * x10): 26.14259262655458\n",
      "x10: 25.84467374848796\n",
      "((min(x7,x9) * x10) / x4): 25.234362574431927\n",
      "Generation: 52\n",
      "Scoring model with 22 features.\n",
      "Current Features: [(min(x7,x9) * x10)] + [x10] + [((min(x7,x9) * x10) / x4)] + [((x10 - x6) / (min(x10,x0) / x4))] + [(x10 - x6)] + [((min(x7,x9) * x10) / (x6 * x3))] + [(x10 * (min(x10,(x0 / x2)) / x8))] + [(x0 - x6)] + [min(((x0 / x2) / (x0 - x6)),x7)] + [min((x0 / x2),(x6 * x3))] + [(min(x10,(x0 / x2)) / x8)] + [(x3 + x10)] + [x0] + [x2] + [x5] + [x3] + [x4] + [x9] + [x1] + [x6] + [x7] + [x8] Count: 22\n",
      "Score: 0.40237590002982193\n",
      "Best Model Score: 0.4010193619997158 Generation Number :38\n",
      "-------------------------------------------------------\n",
      "Duplicated Features []\n",
      "Adding 3 features to population.\n",
      "Added Features: [(x9 + (min(x10,(x0 / x2)) / x8))] + [(((min(x7,x9) * x10) / x4) * ((min(x7,x9) * x10) / (x6 * x3)))] + [min(min((x0 / x2),(x6 * x3)),(x10 * (min(x10,(x0 / x2)) / x8)))] + [min(x10,min((x0 / x2),(x6 * x3)))] + [(x1 / (min(x7,x9) * x10))]\n",
      "Top performing features:\n",
      "x10: 25.551700594084615\n",
      "(min(x7,x9) * x10): 25.551700594084615\n",
      "((min(x7,x9) * x10) / x4): 24.61061530854674\n",
      "Generation: 53\n",
      "Scoring model with 22 features.\n",
      "Current Features: [x10] + [(min(x7,x9) * x10)] + [((min(x7,x9) * x10) / x4)] + [((x10 - x6) / (min(x10,x0) / x4))] + [(x10 * (min(x10,(x0 / x2)) / x8))] + [(x10 - x6)] + [((min(x7,x9) * x10) / (x6 * x3))] + [min(((x0 / x2) / (x0 - x6)),x7)] + [(x0 - x6)] + [min((x0 / x2),(x6 * x3))] + [(x3 + x10)] + [(min(x10,(x0 / x2)) / x8)] + [x0] + [x2] + [x5] + [x3] + [x4] + [x9] + [x1] + [x6] + [x7] + [x8] Count: 22\n",
      "Score: 0.4023758186449501\n",
      "Best Model Score: 0.4010193619997158 Generation Number :38\n",
      "-------------------------------------------------------\n",
      "Duplicated Features []\n",
      "Adding 3 features to population.\n",
      "Added Features: [(x5 * min((x0 / x2),(x6 * x3)))] + [(x8 - x6)] + [((min(x7,x9) * x10) + x10)]\n",
      "Top performing features:\n",
      "((min(x7,x9) * x10) + x10): 26.14338680401733\n",
      "((min(x7,x9) * x10) / x4): 23.988307282187588\n",
      "(min(x7,x9) * x10): 23.015693592042588\n",
      "Generation: 54\n",
      "Scoring model with 22 features.\n",
      "Current Features: [((min(x7,x9) * x10) + x10)] + [((min(x7,x9) * x10) / x4)] + [(min(x7,x9) * x10)] + [((x10 - x6) / (min(x10,x0) / x4))] + [(x10 - x6)] + [((min(x7,x9) * x10) / (x6 * x3))] + [min(((x0 / x2) / (x0 - x6)),x7)] + [(x0 - x6)] + [(x10 * (min(x10,(x0 / x2)) / x8))] + [(min(x10,(x0 / x2)) / x8)] + [x10] + [min((x0 / x2),(x6 * x3))] + [x0] + [x5] + [x2] + [x3] + [x4] + [x9] + [x1] + [x6] + [x7] + [x8] Count: 22\n",
      "Score: 0.4019128397927578\n",
      "Best Model Score: 0.4010193619997158 Generation Number :38\n",
      "-------------------------------------------------------\n",
      "Duplicated Features []\n",
      "Adding 2 features to population.\n",
      "Added Features: [max(x2,x1)] + [(x2 - x6)]\n",
      "Top performing features:\n",
      "((min(x7,x9) * x10) + x10): 25.89015694107508\n",
      "((min(x7,x9) * x10) / x4): 23.72841445839562\n",
      "(min(x7,x9) * x10): 22.75573437213574\n",
      "Generation: 55\n",
      "Scoring model with 22 features.\n",
      "Current Features: [((min(x7,x9) * x10) + x10)] + [((min(x7,x9) * x10) / x4)] + [(min(x7,x9) * x10)] + [((x10 - x6) / (min(x10,x0) / x4))] + [(x10 - x6)] + [((min(x7,x9) * x10) / (x6 * x3))] + [x10] + [(x10 * (min(x10,(x0 / x2)) / x8))] + [min(((x0 / x2) / (x0 - x6)),x7)] + [(x0 - x6)] + [(min(x10,(x0 / x2)) / x8)] + [min((x0 / x2),(x6 * x3))] + [x3] + [x0] + [x2] + [x5] + [x4] + [x9] + [x1] + [x6] + [x7] + [x8] Count: 22\n",
      "Score: 0.4019139950134463\n",
      "Best Model Score: 0.4010193619997158 Generation Number :38\n",
      "-------------------------------------------------------\n",
      "Duplicated Features []\n",
      "Adding 1 features to population.\n",
      "Added Features: [((x10 - x6) * ((min(x7,x9) * x10) / (x6 * x3)))] + [(((min(x7,x9) * x10) / x4) - (x10 - x6))] + [(x2 - ((x10 - x6) / (min(x10,x0) / x4)))] + [max(((min(x7,x9) * x10) + x10),x5)]\n",
      "Top performing features:\n",
      "((min(x7,x9) * x10) + x10): 26.071152449433562\n",
      "((min(x7,x9) * x10) / x4): 23.913653259198526\n",
      "(min(x7,x9) * x10): 22.939382154279194\n",
      "Generation: 56\n",
      "Scoring model with 22 features.\n",
      "Current Features: [((min(x7,x9) * x10) + x10)] + [((min(x7,x9) * x10) / x4)] + [(min(x7,x9) * x10)] + [((x10 - x6) / (min(x10,x0) / x4))] + [(x10 - x6)] + [((min(x7,x9) * x10) / (x6 * x3))] + [x10] + [(x10 * (min(x10,(x0 / x2)) / x8))] + [min(((x0 / x2) / (x0 - x6)),x7)] + [(x0 - x6)] + [(min(x10,(x0 / x2)) / x8)] + [min((x0 / x2),(x6 * x3))] + [x3] + [x0] + [x5] + [x2] + [x4] + [x9] + [x1] + [x6] + [x7] + [x8] Count: 22\n",
      "Score: 0.40191406392200796\n",
      "Best Model Score: 0.4010193619997158 Generation Number :38\n",
      "-------------------------------------------------------\n",
      "Duplicated Features []\n",
      "Adding 1 features to population.\n",
      "Added Features: [(x2 + x9)] + [((x10 * (min(x10,(x0 / x2)) / x8)) * x2)] + [(((min(x7,x9) * x10) / x4) * (x10 - x6))]\n",
      "Top performing features:\n",
      "((min(x7,x9) * x10) + x10): 26.08212544834921\n",
      "((min(x7,x9) * x10) / x4): 23.92546757072445\n",
      "(min(x7,x9) * x10): 22.951447328117535\n",
      "Generation: 57\n",
      "Scoring model with 22 features.\n"
     ]
    }
   ],
   "source": [
    "start = datetime.datetime.now()\n",
    "model(wir_xT,wir_xt,wir_yT,wir_yt)\n",
    "elapsed =  datetime.datetime.now() - start\n",
    "print(elapsed)"
   ]
  },
  {
   "cell_type": "code",
   "execution_count": 5,
   "metadata": {},
   "outputs": [],
   "source": [
    "def model(X_train, X_test, y_train, y_test):\n",
    "    for i in range (1,44):\n",
    "        sr = EFSRegressor(seed=i,verbose=0,max_gens=200,num_additions=21,max_useless_steps=50)\n",
    "        sr.fit(X_train, y_train) #, feature_names=[\"X1\", \"X2\"])\n",
    "        score = sr.score(X_train, y_train)\n",
    "        print(\"Seed :\",i,'Train MSE Score: {}'.format(score))\n",
    "        score = sr.score(X_test, y_test)\n",
    "        print(\"Seed :\",i,'Test MSE Score: {}'.format(score))"
   ]
  },
  {
   "cell_type": "code",
   "execution_count": 6,
   "metadata": {},
   "outputs": [
    {
     "name": "stdout",
     "output_type": "stream",
     "text": [
      "Seed : 1 Train MSE Score: 0.3895746607983069\n",
      "Seed : 1 Test MSE Score: 0.3948182386256087\n",
      "Seed : 2 Train MSE Score: 0.38705581516868004\n",
      "Seed : 2 Test MSE Score: 0.4052544474988909\n",
      "Seed : 3 Train MSE Score: 0.40170773192474624\n",
      "Seed : 3 Test MSE Score: 0.3994082635854317\n",
      "Seed : 4 Train MSE Score: 0.3953477779131902\n",
      "Seed : 4 Test MSE Score: 0.39959126006452844\n",
      "Seed : 5 Train MSE Score: 0.3890770121341676\n",
      "Seed : 5 Test MSE Score: 0.39391693857594956\n",
      "Seed : 6 Train MSE Score: 0.3931838949790686\n",
      "Seed : 6 Test MSE Score: 0.41346035404417325\n",
      "Seed : 7 Train MSE Score: 0.38145281205653103\n",
      "Seed : 7 Test MSE Score: 0.5340189577161343\n",
      "Seed : 8 Train MSE Score: 0.40302444951499206\n",
      "Seed : 8 Test MSE Score: 0.4038569074673694\n",
      "Seed : 9 Train MSE Score: 0.3856983208685335\n",
      "Seed : 9 Test MSE Score: 0.39967812018698917\n",
      "Seed : 10 Train MSE Score: 0.3893774170533449\n",
      "Seed : 10 Test MSE Score: 0.39619635578249607\n",
      "Seed : 11 Train MSE Score: 0.3867279638583703\n",
      "Seed : 11 Test MSE Score: 0.4259465932865323\n",
      "Seed : 12 Train MSE Score: 0.39509304348911756\n",
      "Seed : 12 Test MSE Score: 0.4371171135672251\n",
      "Seed : 13 Train MSE Score: 0.39260481169220646\n",
      "Seed : 13 Test MSE Score: 0.40852820111305516\n",
      "Seed : 14 Train MSE Score: 0.39425570464787363\n",
      "Seed : 14 Test MSE Score: 0.3992106804210501\n",
      "Seed : 15 Train MSE Score: 0.39684109354638436\n",
      "Seed : 15 Test MSE Score: 0.39733545749505245\n",
      "Seed : 16 Train MSE Score: 0.38636486724135133\n",
      "Seed : 16 Test MSE Score: 0.3930486616505159\n",
      "Seed : 17 Train MSE Score: 0.3888617478624661\n",
      "Seed : 17 Test MSE Score: 0.40039217557523465\n",
      "Seed : 18 Train MSE Score: 0.4001825989590326\n",
      "Seed : 18 Test MSE Score: 0.4061829475278134\n",
      "Seed : 19 Train MSE Score: 0.39583452692422416\n",
      "Seed : 19 Test MSE Score: 0.4065998999218125\n",
      "Seed : 20 Train MSE Score: 0.39103272909107123\n",
      "Seed : 20 Test MSE Score: 0.403136691633397\n",
      "Seed : 21 Train MSE Score: 0.3964711813036357\n",
      "Seed : 21 Test MSE Score: 0.3955684321608151\n",
      "Seed : 22 Train MSE Score: 0.39219897217708427\n",
      "Seed : 22 Test MSE Score: 0.3998666708856536\n",
      "Seed : 23 Train MSE Score: 0.39640970913421464\n",
      "Seed : 23 Test MSE Score: 0.42484949150126206\n",
      "Seed : 24 Train MSE Score: 0.39472920166301695\n",
      "Seed : 24 Test MSE Score: 0.4012568080855572\n",
      "Seed : 25 Train MSE Score: 0.39051118543118873\n",
      "Seed : 25 Test MSE Score: 0.40054088429234747\n",
      "Seed : 26 Train MSE Score: 0.3956012890104346\n",
      "Seed : 26 Test MSE Score: 0.3972872322619558\n",
      "Seed : 27 Train MSE Score: 0.40105599681666076\n",
      "Seed : 27 Test MSE Score: 0.4119700342135878\n",
      "Seed : 28 Train MSE Score: 0.38965597363775983\n",
      "Seed : 28 Test MSE Score: 0.52359437297048\n",
      "Seed : 29 Train MSE Score: 0.39667998161031753\n",
      "Seed : 29 Test MSE Score: 0.40369743650988743\n",
      "Seed : 30 Train MSE Score: 0.39485719626755134\n",
      "Seed : 30 Test MSE Score: 0.39265773852173125\n",
      "Seed : 31 Train MSE Score: 0.3942704681517432\n",
      "Seed : 31 Test MSE Score: 0.5682884294457676\n",
      "Seed : 32 Train MSE Score: 0.3933370894578403\n",
      "Seed : 32 Test MSE Score: 0.40343526870180735\n",
      "Seed : 33 Train MSE Score: 0.38732229508700705\n",
      "Seed : 33 Test MSE Score: 0.4107647771840485\n",
      "Seed : 34 Train MSE Score: 0.3944086547698569\n",
      "Seed : 34 Test MSE Score: 0.4087482269004849\n",
      "Seed : 35 Train MSE Score: 0.39082861199190755\n",
      "Seed : 35 Test MSE Score: 0.4665303697084795\n",
      "Seed : 36 Train MSE Score: 0.3885539181585512\n",
      "Seed : 36 Test MSE Score: 0.39811039625187156\n",
      "Seed : 37 Train MSE Score: 0.3907885727839342\n",
      "Seed : 37 Test MSE Score: 0.4766644269964791\n",
      "Seed : 38 Train MSE Score: 0.39450698355343095\n",
      "Seed : 38 Test MSE Score: 0.40601281274104717\n",
      "Seed : 39 Train MSE Score: 0.3909463177181063\n",
      "Seed : 39 Test MSE Score: 0.39378796534389804\n",
      "Seed : 40 Train MSE Score: 0.39376139301746776\n",
      "Seed : 40 Test MSE Score: 0.4206355627188132\n",
      "Seed : 41 Train MSE Score: 0.38926849878718894\n",
      "Seed : 41 Test MSE Score: 0.4124673280123633\n",
      "Seed : 42 Train MSE Score: 0.38735847563318715\n",
      "Seed : 42 Test MSE Score: 0.3967643184004753\n",
      "Seed : 43 Train MSE Score: 0.3926597883556984\n",
      "Seed : 43 Test MSE Score: 0.4048765459677189\n",
      "1:58:58.215925\n"
     ]
    }
   ],
   "source": [
    "start = datetime.datetime.now()\n",
    "model(wir_xT,wir_xt,wir_yT,wir_yt)\n",
    "elapsed =  datetime.datetime.now() - start\n",
    "print(elapsed)"
   ]
  },
  {
   "cell_type": "code",
   "execution_count": 7,
   "metadata": {},
   "outputs": [],
   "source": [
    "def model(X_train, X_test, y_train, y_test):\n",
    "    for i in range (1,44):\n",
    "        sr = EFSRegressor(seed=i,verbose=0,max_gens=200,num_additions=10,max_useless_steps=50)\n",
    "        sr.fit(X_train, y_train) #, feature_names=[\"X1\", \"X2\"])\n",
    "        score = sr.score(X_train, y_train)\n",
    "        print(\"Seed :\",i,'Train MSE Score: {}'.format(score))\n",
    "        score = sr.score(X_test, y_test)\n",
    "        print(\"Seed :\",i,'Test MSE Score: {}'.format(score))"
   ]
  },
  {
   "cell_type": "code",
   "execution_count": 8,
   "metadata": {},
   "outputs": [
    {
     "name": "stdout",
     "output_type": "stream",
     "text": [
      "Seed : 1 Train MSE Score: 0.4010193619997158\n",
      "Seed : 1 Test MSE Score: 0.8266993226168751\n",
      "Seed : 2 Train MSE Score: 0.3931173899274084\n",
      "Seed : 2 Test MSE Score: 0.45598716049544225\n",
      "Seed : 3 Train MSE Score: 0.4024356750271447\n",
      "Seed : 3 Test MSE Score: 0.3972869328568325\n",
      "Seed : 4 Train MSE Score: 0.40401843631187007\n",
      "Seed : 4 Test MSE Score: 0.4039316498410075\n",
      "Seed : 5 Train MSE Score: 0.40265882397145947\n",
      "Seed : 5 Test MSE Score: 0.40657884976983244\n",
      "Seed : 6 Train MSE Score: 0.40072490481871076\n",
      "Seed : 6 Test MSE Score: 0.41539872723104665\n",
      "Seed : 7 Train MSE Score: 0.4101793779328486\n",
      "Seed : 7 Test MSE Score: 0.4067643502384758\n",
      "Seed : 8 Train MSE Score: 0.4013057576589824\n",
      "Seed : 8 Test MSE Score: 0.395987743495685\n",
      "Seed : 9 Train MSE Score: 0.4064794337238321\n",
      "Seed : 9 Test MSE Score: 0.4064323326093234\n",
      "Seed : 10 Train MSE Score: 0.3998037509848368\n",
      "Seed : 10 Test MSE Score: 0.3988873518972141\n",
      "Seed : 11 Train MSE Score: 0.40195497533893326\n",
      "Seed : 11 Test MSE Score: 0.40728259699413843\n",
      "Seed : 12 Train MSE Score: 0.40207371964093847\n",
      "Seed : 12 Test MSE Score: 0.39645666812983915\n",
      "Seed : 13 Train MSE Score: 0.40299365018605693\n",
      "Seed : 13 Test MSE Score: 0.4080459078437558\n",
      "Seed : 14 Train MSE Score: 0.39619734530832373\n",
      "Seed : 14 Test MSE Score: 0.39682772787972925\n",
      "Seed : 15 Train MSE Score: 0.39520609042474286\n",
      "Seed : 15 Test MSE Score: 0.40841793937490656\n",
      "Seed : 16 Train MSE Score: 0.4018596592372537\n",
      "Seed : 16 Test MSE Score: 0.39356761289021847\n",
      "Seed : 17 Train MSE Score: 0.4051217146230264\n",
      "Seed : 17 Test MSE Score: 0.39887573225520034\n",
      "Seed : 18 Train MSE Score: 0.3992707048829914\n",
      "Seed : 18 Test MSE Score: 0.42132403419873915\n",
      "Seed : 19 Train MSE Score: 0.4147676498729941\n",
      "Seed : 19 Test MSE Score: 0.42557544451956425\n",
      "Seed : 20 Train MSE Score: 0.39756405225321756\n",
      "Seed : 20 Test MSE Score: 0.425539385452794\n",
      "Seed : 21 Train MSE Score: 0.40423225720269645\n",
      "Seed : 21 Test MSE Score: 0.42251129965980466\n",
      "Seed : 22 Train MSE Score: 0.4026747253705376\n",
      "Seed : 22 Test MSE Score: 0.4052088233043404\n",
      "Seed : 23 Train MSE Score: 0.4003599197436803\n",
      "Seed : 23 Test MSE Score: 0.3963732343383195\n",
      "Seed : 24 Train MSE Score: 0.4047090640314458\n",
      "Seed : 24 Test MSE Score: 0.3946035526418527\n",
      "Seed : 25 Train MSE Score: 0.4033320786570727\n",
      "Seed : 25 Test MSE Score: 0.39523193274596546\n",
      "Seed : 26 Train MSE Score: 0.4062556052585072\n",
      "Seed : 26 Test MSE Score: 0.40972398305167507\n",
      "Seed : 27 Train MSE Score: 0.4029791620931876\n",
      "Seed : 27 Test MSE Score: 0.40292795155625455\n",
      "Seed : 28 Train MSE Score: 0.39658072413572365\n",
      "Seed : 28 Test MSE Score: 0.39801613401208424\n",
      "Seed : 29 Train MSE Score: 0.4081418644857712\n",
      "Seed : 29 Test MSE Score: 0.4081096700303608\n",
      "Seed : 30 Train MSE Score: 0.398431167896905\n",
      "Seed : 30 Test MSE Score: 0.4047581354249624\n",
      "Seed : 31 Train MSE Score: 0.39846667640026584\n",
      "Seed : 31 Test MSE Score: 0.39624936469140765\n",
      "Seed : 32 Train MSE Score: 0.3935204947931522\n",
      "Seed : 32 Test MSE Score: 0.39494127227790776\n",
      "Seed : 33 Train MSE Score: 0.38917679602566546\n",
      "Seed : 33 Test MSE Score: 0.4240751959661294\n",
      "Seed : 34 Train MSE Score: 0.39280139934032854\n",
      "Seed : 34 Test MSE Score: 0.402012196029176\n",
      "Seed : 35 Train MSE Score: 0.40550495222840227\n",
      "Seed : 35 Test MSE Score: 0.40515235590737136\n",
      "Seed : 36 Train MSE Score: 0.4004701664883956\n",
      "Seed : 36 Test MSE Score: 0.4014552936971077\n",
      "Seed : 37 Train MSE Score: 0.412097326547034\n",
      "Seed : 37 Test MSE Score: 0.4078541339250255\n",
      "Seed : 38 Train MSE Score: 0.3972273541251548\n",
      "Seed : 38 Test MSE Score: 0.4046355556306391\n",
      "Seed : 39 Train MSE Score: 0.397223703129403\n",
      "Seed : 39 Test MSE Score: 0.3966293779710269\n",
      "Seed : 40 Train MSE Score: 0.404079352775971\n",
      "Seed : 40 Test MSE Score: 0.4159973856306174\n",
      "Seed : 41 Train MSE Score: 0.4079557627619829\n",
      "Seed : 41 Test MSE Score: 0.4094508563998513\n",
      "Seed : 42 Train MSE Score: 0.39783424529490613\n",
      "Seed : 42 Test MSE Score: 0.41717393170003164\n",
      "Seed : 43 Train MSE Score: 0.39231311980374917\n",
      "Seed : 43 Test MSE Score: 0.4134618506024039\n",
      "0:41:05.358790\n"
     ]
    }
   ],
   "source": [
    "start = datetime.datetime.now()\n",
    "model(wir_xT,wir_xt,wir_yT,wir_yt)\n",
    "elapsed =  datetime.datetime.now() - start\n",
    "print(elapsed)"
   ]
  },
  {
   "cell_type": "code",
   "execution_count": null,
   "metadata": {},
   "outputs": [],
   "source": []
  }
 ],
 "metadata": {
  "kernelspec": {
   "display_name": "Python 3",
   "language": "python",
   "name": "python3"
  },
  "language_info": {
   "codemirror_mode": {
    "name": "ipython",
    "version": 3
   },
   "file_extension": ".py",
   "mimetype": "text/x-python",
   "name": "python",
   "nbconvert_exporter": "python",
   "pygments_lexer": "ipython3",
   "version": "3.7.7"
  }
 },
 "nbformat": 4,
 "nbformat_minor": 4
}
